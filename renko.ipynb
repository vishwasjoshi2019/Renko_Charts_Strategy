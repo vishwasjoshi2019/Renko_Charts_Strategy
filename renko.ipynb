{
  "nbformat": 4,
  "nbformat_minor": 0,
  "metadata": {
    "colab": {
      "provenance": [],
      "authorship_tag": "ABX9TyMRMG6peGc72C3tywuTNgRe",
      "include_colab_link": true
    },
    "kernelspec": {
      "name": "python3",
      "display_name": "Python 3"
    },
    "language_info": {
      "name": "python"
    }
  },
  "cells": [
    {
      "cell_type": "markdown",
      "metadata": {
        "id": "view-in-github",
        "colab_type": "text"
      },
      "source": [
        "<a href=\"https://colab.research.google.com/github/vishwasjoshi2019/Renko_Charts_Strategy/blob/main/renko.ipynb\" target=\"_parent\"><img src=\"https://colab.research.google.com/assets/colab-badge.svg\" alt=\"Open In Colab\"/></a>"
      ]
    },
    {
      "cell_type": "code",
      "execution_count": null,
      "metadata": {
        "id": "pcgTSgg_YpRc"
      },
      "outputs": [],
      "source": [
        "pip install yfinance"
      ]
    },
    {
      "cell_type": "code",
      "source": [
        "import yfinance as yf\n",
        "import datetime as dt"
      ],
      "metadata": {
        "id": "tJj-MBvGZC3t"
      },
      "execution_count": null,
      "outputs": []
    },
    {
      "cell_type": "code",
      "source": [
        "import pandas as pd"
      ],
      "metadata": {
        "id": "xv-dmGunmz__"
      },
      "execution_count": null,
      "outputs": []
    },
    {
      "cell_type": "code",
      "source": [
        "start_date = dt.datetime.today()- dt.timedelta(2) # getting data of around 5 years.\n",
        "end_date = dt.datetime.today()\n",
        "ticker_name = \"^NSEI\"\n",
        "ohlcv = yf.download(ticker_name, start_date, end_date,interval=\"1m\")"
      ],
      "metadata": {
        "colab": {
          "base_uri": "https://localhost:8080/"
        },
        "id": "RAQ-U6LrYsgs",
        "outputId": "24b76b4a-8f65-4306-8878-c831d3fb8a71"
      },
      "execution_count": null,
      "outputs": [
        {
          "output_type": "stream",
          "name": "stdout",
          "text": [
            "\r[*********************100%***********************]  1 of 1 completed\n"
          ]
        }
      ]
    },
    {
      "cell_type": "code",
      "source": [
        "ohlcv"
      ],
      "metadata": {
        "id": "09KmPtIXlv_3"
      },
      "execution_count": null,
      "outputs": []
    },
    {
      "cell_type": "code",
      "source": [
        "ohlcv=pd.DataFrame(ohlcv[(ohlcv.index>=\"2022-06-27 09:15:00+05:30\") & (ohlcv.index<=\"2022-06-27 15:30:00+05:30\")])"
      ],
      "metadata": {
        "id": "azgW5tXIZS41"
      },
      "execution_count": null,
      "outputs": []
    },
    {
      "cell_type": "code",
      "source": [
        "ohlcv.drop(columns=['Adj Close','Volume'],inplace=True)"
      ],
      "metadata": {
        "id": "OV4lUxJiZcFU"
      },
      "execution_count": null,
      "outputs": []
    },
    {
      "cell_type": "code",
      "source": [
        "ohlcv.loc[\"2022-06-27 09:15:00+05:30\"]=[15926.200195,15926.200195,15871.250000,15900]"
      ],
      "metadata": {
        "id": "nn5ZeATZZ5uZ"
      },
      "execution_count": null,
      "outputs": []
    },
    {
      "cell_type": "code",
      "source": [
        "ohlcv"
      ],
      "metadata": {
        "id": "VajD91bTQeCQ"
      },
      "execution_count": null,
      "outputs": []
    },
    {
      "cell_type": "code",
      "source": [
        "green=0\n",
        "red=0\n",
        "\n",
        "pivot=ohlcv['Close'][0]\n",
        "\n",
        "\n",
        "red_flag=True\n",
        "green_flag=True\n",
        "\n",
        "fix_step=25\n",
        "\n",
        "\n",
        "for i in ohlcv['Close']:\n",
        "  if(green_flag==True):\n",
        "    if(i>=(pivot+fix_step)):\n",
        "      print('green candle then again green',pivot,pivot+fix_step,fix_step)\n",
        "      pivot=i\n",
        "      green+=1\n",
        "      green_flag=True\n",
        "      red_flag=False\n",
        "    elif(i<=(pivot-2*fix_step)):\n",
        "      print('green candle then red',pivot,pivot-2*fix_step,-2*fix_step)\n",
        "\n",
        "      pivot=i\n",
        "      red+=1\n",
        "      red_flag=True\n",
        "      green_flag=False\n",
        "\n",
        "  if(red_flag==True):\n",
        "\n",
        "    if(i>=(pivot+2*fix_step)):\n",
        "      print('red candle then green',pivot,pivot+2*fix_step,+2*fix_step)\n",
        "\n",
        "      pivot=i\n",
        "      green+=1\n",
        "      green_flag=True\n",
        "      red_flag=False\n",
        "    elif(i<=(pivot-fix_step)):\n",
        "      print('red candle then red',pivot,pivot-fix_step,-fix_step)\n",
        "\n",
        "      pivot=i\n",
        "      red+=1\n",
        "      red_flag=True\n",
        "      green_flag=False\n",
        "\n",
        "\n",
        "\n",
        "\n",
        "\n",
        "print(green,red)"
      ],
      "metadata": {
        "colab": {
          "base_uri": "https://localhost:8080/"
        },
        "id": "zuP1L3boZ7Lv",
        "outputId": "5ec8c939-b908-4b2c-89f3-3c0c1e6c3ae1"
      },
      "execution_count": null,
      "outputs": [
        {
          "output_type": "stream",
          "name": "stdout",
          "text": [
            "green candle then again green 15844.099609375 15869.099609375 25\n",
            "green candle then again green 15875.849609375 15900.849609375 25\n",
            "green candle then red 15901.400390625 15851.400390625 -50\n",
            "red candle then red 15849.5 15824.5 -25\n",
            "red candle then green 15823.7998046875 15873.7998046875 50\n",
            "3 2\n"
          ]
        }
      ]
    },
    {
      "cell_type": "code",
      "source": [],
      "metadata": {
        "id": "KYBqwBRgavF1"
      },
      "execution_count": null,
      "outputs": []
    },
    {
      "cell_type": "code",
      "source": [],
      "metadata": {
        "id": "RDnsHrHJj4ts"
      },
      "execution_count": null,
      "outputs": []
    },
    {
      "cell_type": "code",
      "source": [],
      "metadata": {
        "id": "j0dWevrWj5NT"
      },
      "execution_count": null,
      "outputs": []
    }
  ]
}