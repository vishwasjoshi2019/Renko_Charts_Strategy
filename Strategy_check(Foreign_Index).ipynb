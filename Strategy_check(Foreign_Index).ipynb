{
  "nbformat": 4,
  "nbformat_minor": 0,
  "metadata": {
    "colab": {
      "provenance": [],
      "include_colab_link": true
    },
    "kernelspec": {
      "name": "python3",
      "display_name": "Python 3"
    },
    "language_info": {
      "name": "python"
    }
  },
  "cells": [
    {
      "cell_type": "markdown",
      "metadata": {
        "id": "view-in-github",
        "colab_type": "text"
      },
      "source": [
        "<a href=\"https://colab.research.google.com/github/vishwasjoshi2019/Stock_Market_Analysis/blob/main/Strategy_check(Foreign_Index).ipynb\" target=\"_parent\"><img src=\"https://colab.research.google.com/assets/colab-badge.svg\" alt=\"Open In Colab\"/></a>"
      ]
    },
    {
      "cell_type": "code",
      "execution_count": null,
      "metadata": {
        "colab": {
          "base_uri": "https://localhost:8080/"
        },
        "id": "hJBqEtcKTngq",
        "outputId": "0084fff3-5fa7-420f-bc72-521c62493362"
      },
      "outputs": [
        {
          "output_type": "stream",
          "name": "stdout",
          "text": [
            "Requirement already satisfied: yfinance in /usr/local/lib/python3.10/dist-packages (0.2.28)\n",
            "Requirement already satisfied: pandas>=1.3.0 in /usr/local/lib/python3.10/dist-packages (from yfinance) (1.5.3)\n",
            "Requirement already satisfied: numpy>=1.16.5 in /usr/local/lib/python3.10/dist-packages (from yfinance) (1.23.5)\n",
            "Requirement already satisfied: requests>=2.31 in /usr/local/lib/python3.10/dist-packages (from yfinance) (2.31.0)\n",
            "Requirement already satisfied: multitasking>=0.0.7 in /usr/local/lib/python3.10/dist-packages (from yfinance) (0.0.11)\n",
            "Requirement already satisfied: lxml>=4.9.1 in /usr/local/lib/python3.10/dist-packages (from yfinance) (4.9.3)\n",
            "Requirement already satisfied: appdirs>=1.4.4 in /usr/local/lib/python3.10/dist-packages (from yfinance) (1.4.4)\n",
            "Requirement already satisfied: pytz>=2022.5 in /usr/local/lib/python3.10/dist-packages (from yfinance) (2023.3.post1)\n",
            "Requirement already satisfied: frozendict>=2.3.4 in /usr/local/lib/python3.10/dist-packages (from yfinance) (2.3.8)\n",
            "Requirement already satisfied: beautifulsoup4>=4.11.1 in /usr/local/lib/python3.10/dist-packages (from yfinance) (4.11.2)\n",
            "Requirement already satisfied: html5lib>=1.1 in /usr/local/lib/python3.10/dist-packages (from yfinance) (1.1)\n",
            "Requirement already satisfied: soupsieve>1.2 in /usr/local/lib/python3.10/dist-packages (from beautifulsoup4>=4.11.1->yfinance) (2.5)\n",
            "Requirement already satisfied: six>=1.9 in /usr/local/lib/python3.10/dist-packages (from html5lib>=1.1->yfinance) (1.16.0)\n",
            "Requirement already satisfied: webencodings in /usr/local/lib/python3.10/dist-packages (from html5lib>=1.1->yfinance) (0.5.1)\n",
            "Requirement already satisfied: python-dateutil>=2.8.1 in /usr/local/lib/python3.10/dist-packages (from pandas>=1.3.0->yfinance) (2.8.2)\n",
            "Requirement already satisfied: charset-normalizer<4,>=2 in /usr/local/lib/python3.10/dist-packages (from requests>=2.31->yfinance) (3.2.0)\n",
            "Requirement already satisfied: idna<4,>=2.5 in /usr/local/lib/python3.10/dist-packages (from requests>=2.31->yfinance) (3.4)\n",
            "Requirement already satisfied: urllib3<3,>=1.21.1 in /usr/local/lib/python3.10/dist-packages (from requests>=2.31->yfinance) (2.0.4)\n",
            "Requirement already satisfied: certifi>=2017.4.17 in /usr/local/lib/python3.10/dist-packages (from requests>=2.31->yfinance) (2023.7.22)\n"
          ]
        }
      ],
      "source": [
        "!pip install yfinance"
      ]
    },
    {
      "cell_type": "code",
      "source": [
        "import yfinance as yf\n",
        "import pandas as pd\n",
        "import numpy as np\n",
        "import scipy.stats as stats\n",
        "import plotly.express as px\n",
        "\n",
        "# Define the list of ticker symbols for the indices\n",
        "ticker_symbols = [\"^NDX\", \"^DJI\", \"^GSPC\"]\n",
        "\n",
        "# Define the date range for which you want to fetch data\n",
        "start_date = \"2023-01-01\"\n",
        "end_date = \"2023-09-18\"\n",
        "\n",
        "# Fetch the OHLCV data for each index\n",
        "df_ndx = yf.download(\"^NDX\", start=start_date, end=end_date)\n",
        "df_dji=yf.download(\"^DJI\", start=start_date, end=end_date)\n",
        "df_gspc=yf.download(\"^GSPC\", start=start_date, end=end_date)\n",
        "# Create a separate DataFrame for each index's OHLCV data\n",
        "# dfs = {}\n",
        "# for symbol in ticker_symbols:\n",
        "#     df = data[symbol]\n",
        "#     df.rename(columns={'Open': f'{symbol}_Open', 'High': f'{symbol}_High', 'Low': f'{symbol}_Low', 'Close': f'{symbol}_Close', 'Volume': f'{symbol}_Volume'}, inplace=True)\n",
        "#     dfs[symbol] = df[['Open', 'High', 'Low', 'Close', 'Volume']]\n",
        "\n",
        "# # Display the first few rows of each DataFrame\n",
        "# for symbol, df in dfs.items():\n",
        "#     print(f\"{symbol} DataFrame:\")\n",
        "#     print(df.head())\n",
        "#     print()\n"
      ],
      "metadata": {
        "colab": {
          "base_uri": "https://localhost:8080/"
        },
        "id": "2-vaAKRDUMWm",
        "outputId": "ea3c1801-b8f1-4626-e692-75f19a05dfb5"
      },
      "execution_count": null,
      "outputs": [
        {
          "output_type": "stream",
          "name": "stdout",
          "text": [
            "[*********************100%%**********************]  1 of 1 completed\n",
            "[*********************100%%**********************]  1 of 1 completed\n",
            "[*********************100%%**********************]  1 of 1 completed\n"
          ]
        }
      ]
    },
    {
      "cell_type": "code",
      "source": [
        "df_ls=[df_ndx,df_dji,df_gspc]\n"
      ],
      "metadata": {
        "id": "YhtlEF8TUPPE"
      },
      "execution_count": null,
      "outputs": []
    },
    {
      "cell_type": "code",
      "source": [
        "# Separate positive and negative days for NDX\n",
        "df_ndx_positive = df_ndx[df_ndx['Close'] >= df_ndx['Open']]\n",
        "df_ndx_negative = df_ndx[df_ndx['Open'] >= df_ndx['Close']]\n",
        "\n",
        "# Separate positive and negative days for DJI\n",
        "df_dji_positive = df_dji[df_dji['Close'] >= df_dji['Open']]\n",
        "df_dji_negative = df_dji[df_dji['Open'] >= df_dji['Close']]\n",
        "\n",
        "# Separate positive and negative days for GSPC\n",
        "df_gspc_positive = df_gspc[df_gspc['Close'] >= df_gspc['Open']]\n",
        "df_gspc_negative = df_gspc[df_gspc['Open'] >= df_gspc['Close']]\n"
      ],
      "metadata": {
        "id": "e-c0CqF5WHup"
      },
      "execution_count": null,
      "outputs": []
    },
    {
      "cell_type": "code",
      "source": [
        "# For positive days in NDX\n",
        "df_ndx_positive.loc[:, 'Abs_Percent_Change'] = ((df_ndx_positive['Low'] - df_ndx_positive['Open']) / df_ndx_positive['Open']).abs() * 100\n",
        "\n",
        "# For positive days in DJI\n",
        "df_dji_positive.loc[:, 'Abs_Percent_Change'] = ((df_dji_positive['Low'] - df_dji_positive['Open']) / df_dji_positive['Open']).abs() * 100\n",
        "\n",
        "# For positive days in GSPC\n",
        "df_gspc_positive.loc[:, 'Abs_Percent_Change'] = ((df_gspc_positive['Low'] - df_gspc_positive['Open']) / df_gspc_positive['Open']).abs() * 100\n"
      ],
      "metadata": {
        "colab": {
          "base_uri": "https://localhost:8080/"
        },
        "id": "cQCwZjBqW3Sb",
        "outputId": "d5e79ce0-dee2-4c1e-9541-7be4645bab38"
      },
      "execution_count": null,
      "outputs": [
        {
          "output_type": "stream",
          "name": "stderr",
          "text": [
            "<ipython-input-18-143959468376>:2: SettingWithCopyWarning:\n",
            "\n",
            "\n",
            "A value is trying to be set on a copy of a slice from a DataFrame.\n",
            "Try using .loc[row_indexer,col_indexer] = value instead\n",
            "\n",
            "See the caveats in the documentation: https://pandas.pydata.org/pandas-docs/stable/user_guide/indexing.html#returning-a-view-versus-a-copy\n",
            "\n",
            "<ipython-input-18-143959468376>:5: SettingWithCopyWarning:\n",
            "\n",
            "\n",
            "A value is trying to be set on a copy of a slice from a DataFrame.\n",
            "Try using .loc[row_indexer,col_indexer] = value instead\n",
            "\n",
            "See the caveats in the documentation: https://pandas.pydata.org/pandas-docs/stable/user_guide/indexing.html#returning-a-view-versus-a-copy\n",
            "\n",
            "<ipython-input-18-143959468376>:8: SettingWithCopyWarning:\n",
            "\n",
            "\n",
            "A value is trying to be set on a copy of a slice from a DataFrame.\n",
            "Try using .loc[row_indexer,col_indexer] = value instead\n",
            "\n",
            "See the caveats in the documentation: https://pandas.pydata.org/pandas-docs/stable/user_guide/indexing.html#returning-a-view-versus-a-copy\n",
            "\n"
          ]
        }
      ]
    },
    {
      "cell_type": "code",
      "source": [
        "# For negative days in NDX\n",
        "df_ndx_negative.loc[:, 'Abs_Percent_Change'] = ((df_ndx_negative['Open'] - df_ndx_negative['High']) / df_ndx_negative['Open']).abs() * 100\n",
        "\n",
        "# For negative days in DJI\n",
        "df_dji_negative.loc[:, 'Abs_Percent_Change'] = ((df_dji_negative['Open'] - df_dji_negative['High']) / df_dji_negative['Open']).abs() * 100\n",
        "\n",
        "# For negative days in GSPC\n",
        "df_gspc_negative.loc[:, 'Abs_Percent_Change'] = ((df_gspc_negative['Open'] - df_gspc_negative['High']) / df_gspc_negative['Open']).abs() * 100\n"
      ],
      "metadata": {
        "colab": {
          "base_uri": "https://localhost:8080/"
        },
        "id": "NBuzScSaW5fn",
        "outputId": "fdc68335-befb-49aa-b409-eb3d79e112cf"
      },
      "execution_count": null,
      "outputs": [
        {
          "output_type": "stream",
          "name": "stderr",
          "text": [
            "<ipython-input-19-bc0567c46343>:2: SettingWithCopyWarning:\n",
            "\n",
            "\n",
            "A value is trying to be set on a copy of a slice from a DataFrame.\n",
            "Try using .loc[row_indexer,col_indexer] = value instead\n",
            "\n",
            "See the caveats in the documentation: https://pandas.pydata.org/pandas-docs/stable/user_guide/indexing.html#returning-a-view-versus-a-copy\n",
            "\n",
            "<ipython-input-19-bc0567c46343>:5: SettingWithCopyWarning:\n",
            "\n",
            "\n",
            "A value is trying to be set on a copy of a slice from a DataFrame.\n",
            "Try using .loc[row_indexer,col_indexer] = value instead\n",
            "\n",
            "See the caveats in the documentation: https://pandas.pydata.org/pandas-docs/stable/user_guide/indexing.html#returning-a-view-versus-a-copy\n",
            "\n",
            "<ipython-input-19-bc0567c46343>:8: SettingWithCopyWarning:\n",
            "\n",
            "\n",
            "A value is trying to be set on a copy of a slice from a DataFrame.\n",
            "Try using .loc[row_indexer,col_indexer] = value instead\n",
            "\n",
            "See the caveats in the documentation: https://pandas.pydata.org/pandas-docs/stable/user_guide/indexing.html#returning-a-view-versus-a-copy\n",
            "\n"
          ]
        }
      ]
    },
    {
      "cell_type": "code",
      "source": [
        "\n",
        "# For NDX\n",
        "std_dev_ndx_positive = df_ndx_positive['Abs_Percent_Change'].std()\n",
        "std_dev_ndx_negative = df_ndx_negative['Abs_Percent_Change'].std()\n",
        "\n",
        "# For DJI\n",
        "std_dev_dji_positive = df_dji_positive['Abs_Percent_Change'].std()\n",
        "std_dev_dji_negative = df_dji_negative['Abs_Percent_Change'].std()\n",
        "\n",
        "# For GSPC\n",
        "std_dev_gspc_positive = df_gspc_positive['Abs_Percent_Change'].std()\n",
        "std_dev_gspc_negative = df_gspc_negative['Abs_Percent_Change'].std()\n",
        "\n",
        "# Print the standard deviations\n",
        "print(f\"Standard Deviation for NDX (Positive Days): {std_dev_ndx_positive:.2f}\")\n",
        "print(f\"Standard Deviation for NDX (Negative Days): {std_dev_ndx_negative:.2f}\")\n",
        "\n",
        "print(f\"Standard Deviation for DJI (Positive Days): {std_dev_dji_positive:.2f}\")\n",
        "print(f\"Standard Deviation for DJI (Negative Days): {std_dev_dji_negative:.2f}\")\n",
        "\n",
        "print(f\"Standard Deviation for GSPC (Positive Days): {std_dev_gspc_positive:.2f}\")\n",
        "print(f\"Standard Deviation for GSPC (Negative Days): {std_dev_gspc_negative:.2f}\")"
      ],
      "metadata": {
        "colab": {
          "base_uri": "https://localhost:8080/"
        },
        "id": "YxBdmM-aW8X2",
        "outputId": "e10f7a02-f3e9-4fb1-836d-5ff7207d079b"
      },
      "execution_count": null,
      "outputs": [
        {
          "output_type": "stream",
          "name": "stdout",
          "text": [
            "Standard Deviation for NDX (Positive Days): 0.29\n",
            "Standard Deviation for NDX (Negative Days): 0.36\n",
            "Standard Deviation for DJI (Positive Days): 0.26\n",
            "Standard Deviation for DJI (Negative Days): 0.27\n",
            "Standard Deviation for GSPC (Positive Days): 0.24\n",
            "Standard Deviation for GSPC (Negative Days): 0.27\n"
          ]
        }
      ]
    },
    {
      "cell_type": "code",
      "source": [],
      "metadata": {
        "id": "r2wfJUw6gHQu"
      },
      "execution_count": null,
      "outputs": []
    },
    {
      "cell_type": "code",
      "source": [
        "\n",
        "# Create a range of values for x-axis based on df_ndx_positive\n",
        "x_ndx_positive = np.linspace(df_ndx_positive['Abs_Percent_Change'].min(), df_ndx_positive['Abs_Percent_Change'].max(), len(df_ndx_positive))\n",
        "\n",
        "# Calculate the probability density functions (PDFs) for positive days\n",
        "pdfs_positive_ndx = stats.norm.pdf(x_ndx_positive, loc=df_ndx_positive['Abs_Percent_Change'].mean(), scale=df_ndx_positive['Abs_Percent_Change'].std())\n",
        "\n",
        "# Create a range of values for x-axis based on df_ndx_negative\n",
        "x_ndx_negative = np.linspace(df_ndx_negative['Abs_Percent_Change'].min(), df_ndx_negative['Abs_Percent_Change'].max(), len(df_ndx_positive))\n",
        "\n",
        "# Calculate the probability density functions (PDFs) for negative days\n",
        "pdfs_negative_ndx = stats.norm.pdf(x_ndx_negative, loc=df_ndx_negative['Abs_Percent_Change'].mean(), scale=df_ndx_negative['Abs_Percent_Change'].std())\n",
        "1\n",
        "# Create interactive plots using Plotly for NDX\n",
        "fig_ndx_positive = px.line(x=x_ndx_positive, y=pdfs_positive_ndx, title=\"NDX Positive Days Normal Distribution\")\n",
        "fig_ndx_positive.update_xaxes(title=\"x\")\n",
        "fig_ndx_positive.update_yaxes(title=\"PDF\")\n",
        "\n",
        "fig_ndx_negative = px.line(x=x_ndx_negative, y=pdfs_negative_ndx, title=\"NDX Negative Days Normal Distribution\")\n",
        "fig_ndx_negative.update_xaxes(title=\"x\")\n",
        "fig_ndx_negative.update_yaxes(title=\"PDF\")\n",
        "\n",
        "\n",
        "\n",
        "\n",
        "\n",
        "\n",
        "# Show the interactive plots for NDX\n",
        "fig_ndx_positive.show()\n",
        "fig_ndx_negative.show()"
      ],
      "metadata": {
        "id": "xCpXd0e_Yfmn",
        "colab": {
          "base_uri": "https://localhost:8080/",
          "height": 1000
        },
        "outputId": "df4dcc83-076b-4b91-f37c-580465f9524e"
      },
      "execution_count": null,
      "outputs": [
        {
          "output_type": "display_data",
          "data": {
            "text/html": [
              "<html>\n",
              "<head><meta charset=\"utf-8\" /></head>\n",
              "<body>\n",
              "    <div>            <script src=\"https://cdnjs.cloudflare.com/ajax/libs/mathjax/2.7.5/MathJax.js?config=TeX-AMS-MML_SVG\"></script><script type=\"text/javascript\">if (window.MathJax && window.MathJax.Hub && window.MathJax.Hub.Config) {window.MathJax.Hub.Config({SVG: {font: \"STIX-Web\"}});}</script>                <script type=\"text/javascript\">window.PlotlyConfig = {MathJaxConfig: 'local'};</script>\n",
              "        <script charset=\"utf-8\" src=\"https://cdn.plot.ly/plotly-2.24.1.min.js\"></script>                <div id=\"954bd218-7b4b-4792-a296-77c778f62df4\" class=\"plotly-graph-div\" style=\"height:525px; width:100%;\"></div>            <script type=\"text/javascript\">                                    window.PLOTLYENV=window.PLOTLYENV || {};                                    if (document.getElementById(\"954bd218-7b4b-4792-a296-77c778f62df4\")) {                    Plotly.newPlot(                        \"954bd218-7b4b-4792-a296-77c778f62df4\",                        [{\"hovertemplate\":\"x=%{x}\\u003cbr\\u003ey=%{y}\\u003cextra\\u003e\\u003c\\u002fextra\\u003e\",\"legendgroup\":\"\",\"line\":{\"color\":\"#636efa\",\"dash\":\"solid\"},\"marker\":{\"symbol\":\"circle\"},\"mode\":\"lines\",\"name\":\"\",\"orientation\":\"v\",\"showlegend\":false,\"x\":[0.0,0.016746014446302436,0.03349202889260487,0.05023804333890731,0.06698405778520974,0.08373007223151219,0.10047608667781462,0.11722210112411705,0.1339681155704195,0.15071413001672193,0.16746014446302437,0.1842061589093268,0.20095217335562923,0.21769818780193168,0.2344442022482341,0.25119021669453656,0.267936231140839,0.2846822455871414,0.30142826003344386,0.3181742744797463,0.33492028892604875,0.35166630337235116,0.3684123178186536,0.38515833226495605,0.40190434671125846,0.4186503611575609,0.43539637560386335,0.45214239005016577,0.4688884044964682,0.48563441894277065,0.5023804333890731,0.5191264478353755,0.535872462281678,0.5526184767279804,0.5693644911742828,0.5861105056205853,0.6028565200668877,0.6196025345131901,0.6363485489594926,0.653094563405795,0.6698405778520975,0.6865865922983999,0.7033326067447023,0.7200786211910047,0.7368246356373072,0.7535706500836096,0.7703166645299121,0.7870626789762145,0.8038086934225169,0.8205547078688193,0.8373007223151218,0.8540467367614243,0.8707927512077267,0.8875387656540291,0.9042847801003315,0.921030794546634,0.9377768089929364,0.9545228234392389,0.9712688378855413,0.9880148523318437,1.0047608667781462,1.0215068812244485,1.038252895670751,1.0549989101170534,1.071744924563356,1.0884909390096584,1.1052369534559607,1.1219829679022633,1.1387289823485656,1.155474996794868,1.1722210112411706,1.188967025687473,1.2057130401337754,1.2224590545800778,1.2392050690263803,1.2559510834726828,1.272697097918985,1.2894431123652876,1.30618912681159,1.3229351412578925,1.339681155704195,1.3564271701504973,1.3731731845967998,1.3899191990431021,1.4066652134894047,1.423411227935707,1.4401572423820095,1.456903256828312,1.4736492712746143,1.4903952857209168,1.5071413001672191,1.5238873146135217,1.5406333290598242,1.5573793435061265,1.574125357952429,1.5908713723987313,1.6076173868450339,1.6243634012913364,1.6411094157376387,1.6578554301839412,1.6746014446302435,1.691347459076546,1.7080934735228486],\"xaxis\":\"x\",\"y\":[0.6599321035827034,0.7070163579089508,0.7549122187461658,0.8033415580935669,0.8520023653687173,0.9005714056252888,0.9487074107280549,0.9960547695127738,1.0422476689062166,1.0869146244545649,1.129683326154778,1.1701857143418124,1.208063191066625,1.2429718652741002,1.2745877254655666,1.3026116316433514,1.3267740193357733,1.3468392124478215,1.3626092485345356,1.373927129710526,1.3806794245529708,1.3827981606999735,1.3802619639852056,1.3730964174120406,1.3613736315361922,1.3452110363459833,1.324769422945187,1.3002502807075427,1.2718924915684195,1.239968457281619,1.2047797473984503,1.16665236510276,1.125931734630916,1.0829775176883485,1.0381583670122017,0.9918467230892346,0.9444137551783256,0.896224540450759,0.8476335655640197,0.7989806236990367,0.7505871674316528,0.7027531642165832,0.6557544871843843,0.6098408598286534,0.5652343594078397,0.522128470882491,0.4806876712849824,0.4410475138482531,0.4033151722134584,0.3675703977386381,0.33386683742022694,0.30223365623167536,0.27267740573453747,0.24518408053054327,0.21972130535716433,0.19624059820710799,0.17467965857099502,0.15496463454267678,0.13701232786142897,0.12073230176937459,0.10602886261974102,0.09280289228148551,0.08095351436887456,0.07037958302592814,0.06098098828764091,0.052659776823326995,0.045321091071333475,0.03887393335497728,0.033231764508291795,0.028312948840944808,0.024041058957793664,0.020345055059113968,0.017159353934068602,0.01442380298273447,0.012083574326710934,0.01008899346313896,0.00839531604972907,0.006962465344478147,0.00575474162414665,0.004740513625566602,0.0038919007421139625,0.003184453405683856,0.002596837826377491,0.00211053007472281,0.001709523394606915,0.0013800516428671107,0.0011103308716890294,0.0008903203057333454,0.0007115033163102497,0.0005666884557149084,0.00044983017928129437,0.0003558685422544948,0.0002805869035028847,0.00022048648805539408,0.00017267654497017348,0.00013477877585878675,0.00010484469276041182,8.128458296703168e-05,6.280680469500478e-05,4.836620398110101e-05,3.712052362946311e-05,2.8393764192195666e-05,2.16455504936753e-05],\"yaxis\":\"y\",\"type\":\"scatter\"}],                        {\"template\":{\"data\":{\"histogram2dcontour\":[{\"type\":\"histogram2dcontour\",\"colorbar\":{\"outlinewidth\":0,\"ticks\":\"\"},\"colorscale\":[[0.0,\"#0d0887\"],[0.1111111111111111,\"#46039f\"],[0.2222222222222222,\"#7201a8\"],[0.3333333333333333,\"#9c179e\"],[0.4444444444444444,\"#bd3786\"],[0.5555555555555556,\"#d8576b\"],[0.6666666666666666,\"#ed7953\"],[0.7777777777777778,\"#fb9f3a\"],[0.8888888888888888,\"#fdca26\"],[1.0,\"#f0f921\"]]}],\"choropleth\":[{\"type\":\"choropleth\",\"colorbar\":{\"outlinewidth\":0,\"ticks\":\"\"}}],\"histogram2d\":[{\"type\":\"histogram2d\",\"colorbar\":{\"outlinewidth\":0,\"ticks\":\"\"},\"colorscale\":[[0.0,\"#0d0887\"],[0.1111111111111111,\"#46039f\"],[0.2222222222222222,\"#7201a8\"],[0.3333333333333333,\"#9c179e\"],[0.4444444444444444,\"#bd3786\"],[0.5555555555555556,\"#d8576b\"],[0.6666666666666666,\"#ed7953\"],[0.7777777777777778,\"#fb9f3a\"],[0.8888888888888888,\"#fdca26\"],[1.0,\"#f0f921\"]]}],\"heatmap\":[{\"type\":\"heatmap\",\"colorbar\":{\"outlinewidth\":0,\"ticks\":\"\"},\"colorscale\":[[0.0,\"#0d0887\"],[0.1111111111111111,\"#46039f\"],[0.2222222222222222,\"#7201a8\"],[0.3333333333333333,\"#9c179e\"],[0.4444444444444444,\"#bd3786\"],[0.5555555555555556,\"#d8576b\"],[0.6666666666666666,\"#ed7953\"],[0.7777777777777778,\"#fb9f3a\"],[0.8888888888888888,\"#fdca26\"],[1.0,\"#f0f921\"]]}],\"heatmapgl\":[{\"type\":\"heatmapgl\",\"colorbar\":{\"outlinewidth\":0,\"ticks\":\"\"},\"colorscale\":[[0.0,\"#0d0887\"],[0.1111111111111111,\"#46039f\"],[0.2222222222222222,\"#7201a8\"],[0.3333333333333333,\"#9c179e\"],[0.4444444444444444,\"#bd3786\"],[0.5555555555555556,\"#d8576b\"],[0.6666666666666666,\"#ed7953\"],[0.7777777777777778,\"#fb9f3a\"],[0.8888888888888888,\"#fdca26\"],[1.0,\"#f0f921\"]]}],\"contourcarpet\":[{\"type\":\"contourcarpet\",\"colorbar\":{\"outlinewidth\":0,\"ticks\":\"\"}}],\"contour\":[{\"type\":\"contour\",\"colorbar\":{\"outlinewidth\":0,\"ticks\":\"\"},\"colorscale\":[[0.0,\"#0d0887\"],[0.1111111111111111,\"#46039f\"],[0.2222222222222222,\"#7201a8\"],[0.3333333333333333,\"#9c179e\"],[0.4444444444444444,\"#bd3786\"],[0.5555555555555556,\"#d8576b\"],[0.6666666666666666,\"#ed7953\"],[0.7777777777777778,\"#fb9f3a\"],[0.8888888888888888,\"#fdca26\"],[1.0,\"#f0f921\"]]}],\"surface\":[{\"type\":\"surface\",\"colorbar\":{\"outlinewidth\":0,\"ticks\":\"\"},\"colorscale\":[[0.0,\"#0d0887\"],[0.1111111111111111,\"#46039f\"],[0.2222222222222222,\"#7201a8\"],[0.3333333333333333,\"#9c179e\"],[0.4444444444444444,\"#bd3786\"],[0.5555555555555556,\"#d8576b\"],[0.6666666666666666,\"#ed7953\"],[0.7777777777777778,\"#fb9f3a\"],[0.8888888888888888,\"#fdca26\"],[1.0,\"#f0f921\"]]}],\"mesh3d\":[{\"type\":\"mesh3d\",\"colorbar\":{\"outlinewidth\":0,\"ticks\":\"\"}}],\"scatter\":[{\"fillpattern\":{\"fillmode\":\"overlay\",\"size\":10,\"solidity\":0.2},\"type\":\"scatter\"}],\"parcoords\":[{\"type\":\"parcoords\",\"line\":{\"colorbar\":{\"outlinewidth\":0,\"ticks\":\"\"}}}],\"scatterpolargl\":[{\"type\":\"scatterpolargl\",\"marker\":{\"colorbar\":{\"outlinewidth\":0,\"ticks\":\"\"}}}],\"bar\":[{\"error_x\":{\"color\":\"#2a3f5f\"},\"error_y\":{\"color\":\"#2a3f5f\"},\"marker\":{\"line\":{\"color\":\"#E5ECF6\",\"width\":0.5},\"pattern\":{\"fillmode\":\"overlay\",\"size\":10,\"solidity\":0.2}},\"type\":\"bar\"}],\"scattergeo\":[{\"type\":\"scattergeo\",\"marker\":{\"colorbar\":{\"outlinewidth\":0,\"ticks\":\"\"}}}],\"scatterpolar\":[{\"type\":\"scatterpolar\",\"marker\":{\"colorbar\":{\"outlinewidth\":0,\"ticks\":\"\"}}}],\"histogram\":[{\"marker\":{\"pattern\":{\"fillmode\":\"overlay\",\"size\":10,\"solidity\":0.2}},\"type\":\"histogram\"}],\"scattergl\":[{\"type\":\"scattergl\",\"marker\":{\"colorbar\":{\"outlinewidth\":0,\"ticks\":\"\"}}}],\"scatter3d\":[{\"type\":\"scatter3d\",\"line\":{\"colorbar\":{\"outlinewidth\":0,\"ticks\":\"\"}},\"marker\":{\"colorbar\":{\"outlinewidth\":0,\"ticks\":\"\"}}}],\"scattermapbox\":[{\"type\":\"scattermapbox\",\"marker\":{\"colorbar\":{\"outlinewidth\":0,\"ticks\":\"\"}}}],\"scatterternary\":[{\"type\":\"scatterternary\",\"marker\":{\"colorbar\":{\"outlinewidth\":0,\"ticks\":\"\"}}}],\"scattercarpet\":[{\"type\":\"scattercarpet\",\"marker\":{\"colorbar\":{\"outlinewidth\":0,\"ticks\":\"\"}}}],\"carpet\":[{\"aaxis\":{\"endlinecolor\":\"#2a3f5f\",\"gridcolor\":\"white\",\"linecolor\":\"white\",\"minorgridcolor\":\"white\",\"startlinecolor\":\"#2a3f5f\"},\"baxis\":{\"endlinecolor\":\"#2a3f5f\",\"gridcolor\":\"white\",\"linecolor\":\"white\",\"minorgridcolor\":\"white\",\"startlinecolor\":\"#2a3f5f\"},\"type\":\"carpet\"}],\"table\":[{\"cells\":{\"fill\":{\"color\":\"#EBF0F8\"},\"line\":{\"color\":\"white\"}},\"header\":{\"fill\":{\"color\":\"#C8D4E3\"},\"line\":{\"color\":\"white\"}},\"type\":\"table\"}],\"barpolar\":[{\"marker\":{\"line\":{\"color\":\"#E5ECF6\",\"width\":0.5},\"pattern\":{\"fillmode\":\"overlay\",\"size\":10,\"solidity\":0.2}},\"type\":\"barpolar\"}],\"pie\":[{\"automargin\":true,\"type\":\"pie\"}]},\"layout\":{\"autotypenumbers\":\"strict\",\"colorway\":[\"#636efa\",\"#EF553B\",\"#00cc96\",\"#ab63fa\",\"#FFA15A\",\"#19d3f3\",\"#FF6692\",\"#B6E880\",\"#FF97FF\",\"#FECB52\"],\"font\":{\"color\":\"#2a3f5f\"},\"hovermode\":\"closest\",\"hoverlabel\":{\"align\":\"left\"},\"paper_bgcolor\":\"white\",\"plot_bgcolor\":\"#E5ECF6\",\"polar\":{\"bgcolor\":\"#E5ECF6\",\"angularaxis\":{\"gridcolor\":\"white\",\"linecolor\":\"white\",\"ticks\":\"\"},\"radialaxis\":{\"gridcolor\":\"white\",\"linecolor\":\"white\",\"ticks\":\"\"}},\"ternary\":{\"bgcolor\":\"#E5ECF6\",\"aaxis\":{\"gridcolor\":\"white\",\"linecolor\":\"white\",\"ticks\":\"\"},\"baxis\":{\"gridcolor\":\"white\",\"linecolor\":\"white\",\"ticks\":\"\"},\"caxis\":{\"gridcolor\":\"white\",\"linecolor\":\"white\",\"ticks\":\"\"}},\"coloraxis\":{\"colorbar\":{\"outlinewidth\":0,\"ticks\":\"\"}},\"colorscale\":{\"sequential\":[[0.0,\"#0d0887\"],[0.1111111111111111,\"#46039f\"],[0.2222222222222222,\"#7201a8\"],[0.3333333333333333,\"#9c179e\"],[0.4444444444444444,\"#bd3786\"],[0.5555555555555556,\"#d8576b\"],[0.6666666666666666,\"#ed7953\"],[0.7777777777777778,\"#fb9f3a\"],[0.8888888888888888,\"#fdca26\"],[1.0,\"#f0f921\"]],\"sequentialminus\":[[0.0,\"#0d0887\"],[0.1111111111111111,\"#46039f\"],[0.2222222222222222,\"#7201a8\"],[0.3333333333333333,\"#9c179e\"],[0.4444444444444444,\"#bd3786\"],[0.5555555555555556,\"#d8576b\"],[0.6666666666666666,\"#ed7953\"],[0.7777777777777778,\"#fb9f3a\"],[0.8888888888888888,\"#fdca26\"],[1.0,\"#f0f921\"]],\"diverging\":[[0,\"#8e0152\"],[0.1,\"#c51b7d\"],[0.2,\"#de77ae\"],[0.3,\"#f1b6da\"],[0.4,\"#fde0ef\"],[0.5,\"#f7f7f7\"],[0.6,\"#e6f5d0\"],[0.7,\"#b8e186\"],[0.8,\"#7fbc41\"],[0.9,\"#4d9221\"],[1,\"#276419\"]]},\"xaxis\":{\"gridcolor\":\"white\",\"linecolor\":\"white\",\"ticks\":\"\",\"title\":{\"standoff\":15},\"zerolinecolor\":\"white\",\"automargin\":true,\"zerolinewidth\":2},\"yaxis\":{\"gridcolor\":\"white\",\"linecolor\":\"white\",\"ticks\":\"\",\"title\":{\"standoff\":15},\"zerolinecolor\":\"white\",\"automargin\":true,\"zerolinewidth\":2},\"scene\":{\"xaxis\":{\"backgroundcolor\":\"#E5ECF6\",\"gridcolor\":\"white\",\"linecolor\":\"white\",\"showbackground\":true,\"ticks\":\"\",\"zerolinecolor\":\"white\",\"gridwidth\":2},\"yaxis\":{\"backgroundcolor\":\"#E5ECF6\",\"gridcolor\":\"white\",\"linecolor\":\"white\",\"showbackground\":true,\"ticks\":\"\",\"zerolinecolor\":\"white\",\"gridwidth\":2},\"zaxis\":{\"backgroundcolor\":\"#E5ECF6\",\"gridcolor\":\"white\",\"linecolor\":\"white\",\"showbackground\":true,\"ticks\":\"\",\"zerolinecolor\":\"white\",\"gridwidth\":2}},\"shapedefaults\":{\"line\":{\"color\":\"#2a3f5f\"}},\"annotationdefaults\":{\"arrowcolor\":\"#2a3f5f\",\"arrowhead\":0,\"arrowwidth\":1},\"geo\":{\"bgcolor\":\"white\",\"landcolor\":\"#E5ECF6\",\"subunitcolor\":\"white\",\"showland\":true,\"showlakes\":true,\"lakecolor\":\"white\"},\"title\":{\"x\":0.05},\"mapbox\":{\"style\":\"light\"}}},\"xaxis\":{\"anchor\":\"y\",\"domain\":[0.0,1.0],\"title\":{\"text\":\"x\"}},\"yaxis\":{\"anchor\":\"x\",\"domain\":[0.0,1.0],\"title\":{\"text\":\"PDF\"}},\"legend\":{\"tracegroupgap\":0},\"title\":{\"text\":\"NDX Positive Days Normal Distribution\"}},                        {\"responsive\": true}                    ).then(function(){\n",
              "                            \n",
              "var gd = document.getElementById('954bd218-7b4b-4792-a296-77c778f62df4');\n",
              "var x = new MutationObserver(function (mutations, observer) {{\n",
              "        var display = window.getComputedStyle(gd).display;\n",
              "        if (!display || display === 'none') {{\n",
              "            console.log([gd, 'removed!']);\n",
              "            Plotly.purge(gd);\n",
              "            observer.disconnect();\n",
              "        }}\n",
              "}});\n",
              "\n",
              "// Listen for the removal of the full notebook cells\n",
              "var notebookContainer = gd.closest('#notebook-container');\n",
              "if (notebookContainer) {{\n",
              "    x.observe(notebookContainer, {childList: true});\n",
              "}}\n",
              "\n",
              "// Listen for the clearing of the current output cell\n",
              "var outputEl = gd.closest('.output');\n",
              "if (outputEl) {{\n",
              "    x.observe(outputEl, {childList: true});\n",
              "}}\n",
              "\n",
              "                        })                };                            </script>        </div>\n",
              "</body>\n",
              "</html>"
            ]
          },
          "metadata": {}
        },
        {
          "output_type": "display_data",
          "data": {
            "text/html": [
              "<html>\n",
              "<head><meta charset=\"utf-8\" /></head>\n",
              "<body>\n",
              "    <div>            <script src=\"https://cdnjs.cloudflare.com/ajax/libs/mathjax/2.7.5/MathJax.js?config=TeX-AMS-MML_SVG\"></script><script type=\"text/javascript\">if (window.MathJax && window.MathJax.Hub && window.MathJax.Hub.Config) {window.MathJax.Hub.Config({SVG: {font: \"STIX-Web\"}});}</script>                <script type=\"text/javascript\">window.PlotlyConfig = {MathJaxConfig: 'local'};</script>\n",
              "        <script charset=\"utf-8\" src=\"https://cdn.plot.ly/plotly-2.24.1.min.js\"></script>                <div id=\"f70f1682-abba-44e9-9a84-1f8167192046\" class=\"plotly-graph-div\" style=\"height:525px; width:100%;\"></div>            <script type=\"text/javascript\">                                    window.PLOTLYENV=window.PLOTLYENV || {};                                    if (document.getElementById(\"f70f1682-abba-44e9-9a84-1f8167192046\")) {                    Plotly.newPlot(                        \"f70f1682-abba-44e9-9a84-1f8167192046\",                        [{\"hovertemplate\":\"x=%{x}\\u003cbr\\u003ey=%{y}\\u003cextra\\u003e\\u003c\\u002fextra\\u003e\",\"legendgroup\":\"\",\"line\":{\"color\":\"#636efa\",\"dash\":\"solid\"},\"marker\":{\"symbol\":\"circle\"},\"mode\":\"lines\",\"name\":\"\",\"orientation\":\"v\",\"showlegend\":false,\"x\":[0.0,0.01548095416541182,0.03096190833082364,0.04644286249623546,0.06192381666164728,0.0774047708270591,0.09288572499247091,0.10836667915788274,0.12384763332329456,0.13932858748870638,0.1548095416541182,0.17029049581953,0.18577144998494183,0.20125240415035364,0.21673335831576548,0.2322143124811773,0.2476952666465891,0.2631762208120009,0.27865717497741277,0.29413812914282456,0.3096190833082364,0.3251000374736482,0.34058099163906,0.35606194580447187,0.37154289996988366,0.3870238541352955,0.4025048083007073,0.4179857624661191,0.43346671663153097,0.44894767079694275,0.4644286249623546,0.4799095791277664,0.4953905332931782,0.51087148745859,0.5263524416240019,0.5418333957894137,0.5573143499548255,0.5727953041202373,0.5882762582856491,0.603757212451061,0.6192381666164728,0.6347191207818846,0.6502000749472964,0.6656810291127082,0.68116198327812,0.6966429374435319,0.7121238916089437,0.7276048457743555,0.7430857999397673,0.7585667541051792,0.774047708270591,0.7895286624360028,0.8050096166014146,0.8204905707668264,0.8359715249322383,0.8514524790976501,0.8669334332630619,0.8824143874284737,0.8978953415938855,0.9133762957592974,0.9288572499247092,0.944338204090121,0.9598191582555328,0.9753001124209446,0.9907810665863565,1.0062620207517683,1.02174297491718,1.037223929082592,1.0527048832480037,1.0681858374134154,1.0836667915788274,1.0991477457442391,1.114628699909651,1.1301096540750628,1.1455906082404745,1.1610715624058865,1.1765525165712982,1.1920334707367102,1.207514424902122,1.2229953790675336,1.2384763332329456,1.2539572873983573,1.2694382415637693,1.284919195729181,1.3004001498945927,1.3158811040600047,1.3313620582254164,1.3468430123908284,1.36232396655624,1.3778049207216518,1.3932858748870638,1.4087668290524755,1.4242477832178875,1.4397287373832992,1.455209691548711,1.470690645714123,1.4861715998795346,1.5016525540449466,1.5171335082103583,1.53261446237577,1.548095416541182,1.5635763707065937,1.5790573248720057],\"xaxis\":\"x\",\"y\":[0.5981030309832555,0.6271816706590092,0.6564405822646199,0.6857758647512646,0.7150784348734796,0.7442346318499727,0.7731268922545873,0.8016344903883204,0.8296343383089952,0.8570018386661262,0.8836117825241795,0.9093392834767847,0.9340607385756607,0.9576548059377777,0.9800033883677821,1.0009926119529,1.0205137883650566,1.0384643495477148,1.054748743577934,1.0692792807792366,1.0819769196167506,1.0927719825281381,1.1016047926242567,1.1084262231213913,1.1131981524284116,1.1158938189908283,1.1164980712705526,1.1150075095943226,1.1114305180127835,1.105787185752501,1.098109119290516,1.0884391475110449,1.0768309237925446,1.0633484301974643,1.0480653901746986,1.031064597315997,1.0124371687144018,0.9922817323397963,0.9707035585611984,0.9478136464979035,0.923727776265556,0.8985655383954422,0.8724493517458378,0.8455034810962753,0.8178530653254118,0.7896231666298233,0.760937850656241,0.731919306707375,0.7026870163574263,0.6733569778950598,0.6440409930175099,0.6148460211489017,0.5858736056683093,0.5572193752280179,0.5289726222388557,0.5012159595154245,0.4740250550265335,0.4474684437005702,0.42160741430572024,0.39649596857272634,0.3721808489630923,0.34870163081600875,0.3260908740383467,0.3043743290372302,0.2835711912352725,0.2636943982538624,0.24475096369736316,0.22674234141654,0.20966481416722826,0.19350990070320465,0.1782647755424122,0.1639126959142293,0.15043343072294074,0.1378036867391989,0.12599752764708655,0.11498678201962846,0.10474143676061753,0.09523001302630252,0.08641992211825672,0.07827779931071584,0.07076981403478046,0.06386195528187813,0.0575202915044616,0.05171120467869795,0.046401598548394755,0.04155908138907523,0.03715212391424727,0.03315019319164811,0.02952386364546282,0.02624490639176179,0.02328635828984316,0.02062257219345584,0.01822924995511204,0.0160834597763055,0.014163639509106953,0.012449587503175895,0.010922442559654308,0.0095646545026803,0.008359946813330093,0.007293272692529677,0.006350765831614918,0.005519687074326976,0.004788368054485564],\"yaxis\":\"y\",\"type\":\"scatter\"}],                        {\"template\":{\"data\":{\"histogram2dcontour\":[{\"type\":\"histogram2dcontour\",\"colorbar\":{\"outlinewidth\":0,\"ticks\":\"\"},\"colorscale\":[[0.0,\"#0d0887\"],[0.1111111111111111,\"#46039f\"],[0.2222222222222222,\"#7201a8\"],[0.3333333333333333,\"#9c179e\"],[0.4444444444444444,\"#bd3786\"],[0.5555555555555556,\"#d8576b\"],[0.6666666666666666,\"#ed7953\"],[0.7777777777777778,\"#fb9f3a\"],[0.8888888888888888,\"#fdca26\"],[1.0,\"#f0f921\"]]}],\"choropleth\":[{\"type\":\"choropleth\",\"colorbar\":{\"outlinewidth\":0,\"ticks\":\"\"}}],\"histogram2d\":[{\"type\":\"histogram2d\",\"colorbar\":{\"outlinewidth\":0,\"ticks\":\"\"},\"colorscale\":[[0.0,\"#0d0887\"],[0.1111111111111111,\"#46039f\"],[0.2222222222222222,\"#7201a8\"],[0.3333333333333333,\"#9c179e\"],[0.4444444444444444,\"#bd3786\"],[0.5555555555555556,\"#d8576b\"],[0.6666666666666666,\"#ed7953\"],[0.7777777777777778,\"#fb9f3a\"],[0.8888888888888888,\"#fdca26\"],[1.0,\"#f0f921\"]]}],\"heatmap\":[{\"type\":\"heatmap\",\"colorbar\":{\"outlinewidth\":0,\"ticks\":\"\"},\"colorscale\":[[0.0,\"#0d0887\"],[0.1111111111111111,\"#46039f\"],[0.2222222222222222,\"#7201a8\"],[0.3333333333333333,\"#9c179e\"],[0.4444444444444444,\"#bd3786\"],[0.5555555555555556,\"#d8576b\"],[0.6666666666666666,\"#ed7953\"],[0.7777777777777778,\"#fb9f3a\"],[0.8888888888888888,\"#fdca26\"],[1.0,\"#f0f921\"]]}],\"heatmapgl\":[{\"type\":\"heatmapgl\",\"colorbar\":{\"outlinewidth\":0,\"ticks\":\"\"},\"colorscale\":[[0.0,\"#0d0887\"],[0.1111111111111111,\"#46039f\"],[0.2222222222222222,\"#7201a8\"],[0.3333333333333333,\"#9c179e\"],[0.4444444444444444,\"#bd3786\"],[0.5555555555555556,\"#d8576b\"],[0.6666666666666666,\"#ed7953\"],[0.7777777777777778,\"#fb9f3a\"],[0.8888888888888888,\"#fdca26\"],[1.0,\"#f0f921\"]]}],\"contourcarpet\":[{\"type\":\"contourcarpet\",\"colorbar\":{\"outlinewidth\":0,\"ticks\":\"\"}}],\"contour\":[{\"type\":\"contour\",\"colorbar\":{\"outlinewidth\":0,\"ticks\":\"\"},\"colorscale\":[[0.0,\"#0d0887\"],[0.1111111111111111,\"#46039f\"],[0.2222222222222222,\"#7201a8\"],[0.3333333333333333,\"#9c179e\"],[0.4444444444444444,\"#bd3786\"],[0.5555555555555556,\"#d8576b\"],[0.6666666666666666,\"#ed7953\"],[0.7777777777777778,\"#fb9f3a\"],[0.8888888888888888,\"#fdca26\"],[1.0,\"#f0f921\"]]}],\"surface\":[{\"type\":\"surface\",\"colorbar\":{\"outlinewidth\":0,\"ticks\":\"\"},\"colorscale\":[[0.0,\"#0d0887\"],[0.1111111111111111,\"#46039f\"],[0.2222222222222222,\"#7201a8\"],[0.3333333333333333,\"#9c179e\"],[0.4444444444444444,\"#bd3786\"],[0.5555555555555556,\"#d8576b\"],[0.6666666666666666,\"#ed7953\"],[0.7777777777777778,\"#fb9f3a\"],[0.8888888888888888,\"#fdca26\"],[1.0,\"#f0f921\"]]}],\"mesh3d\":[{\"type\":\"mesh3d\",\"colorbar\":{\"outlinewidth\":0,\"ticks\":\"\"}}],\"scatter\":[{\"fillpattern\":{\"fillmode\":\"overlay\",\"size\":10,\"solidity\":0.2},\"type\":\"scatter\"}],\"parcoords\":[{\"type\":\"parcoords\",\"line\":{\"colorbar\":{\"outlinewidth\":0,\"ticks\":\"\"}}}],\"scatterpolargl\":[{\"type\":\"scatterpolargl\",\"marker\":{\"colorbar\":{\"outlinewidth\":0,\"ticks\":\"\"}}}],\"bar\":[{\"error_x\":{\"color\":\"#2a3f5f\"},\"error_y\":{\"color\":\"#2a3f5f\"},\"marker\":{\"line\":{\"color\":\"#E5ECF6\",\"width\":0.5},\"pattern\":{\"fillmode\":\"overlay\",\"size\":10,\"solidity\":0.2}},\"type\":\"bar\"}],\"scattergeo\":[{\"type\":\"scattergeo\",\"marker\":{\"colorbar\":{\"outlinewidth\":0,\"ticks\":\"\"}}}],\"scatterpolar\":[{\"type\":\"scatterpolar\",\"marker\":{\"colorbar\":{\"outlinewidth\":0,\"ticks\":\"\"}}}],\"histogram\":[{\"marker\":{\"pattern\":{\"fillmode\":\"overlay\",\"size\":10,\"solidity\":0.2}},\"type\":\"histogram\"}],\"scattergl\":[{\"type\":\"scattergl\",\"marker\":{\"colorbar\":{\"outlinewidth\":0,\"ticks\":\"\"}}}],\"scatter3d\":[{\"type\":\"scatter3d\",\"line\":{\"colorbar\":{\"outlinewidth\":0,\"ticks\":\"\"}},\"marker\":{\"colorbar\":{\"outlinewidth\":0,\"ticks\":\"\"}}}],\"scattermapbox\":[{\"type\":\"scattermapbox\",\"marker\":{\"colorbar\":{\"outlinewidth\":0,\"ticks\":\"\"}}}],\"scatterternary\":[{\"type\":\"scatterternary\",\"marker\":{\"colorbar\":{\"outlinewidth\":0,\"ticks\":\"\"}}}],\"scattercarpet\":[{\"type\":\"scattercarpet\",\"marker\":{\"colorbar\":{\"outlinewidth\":0,\"ticks\":\"\"}}}],\"carpet\":[{\"aaxis\":{\"endlinecolor\":\"#2a3f5f\",\"gridcolor\":\"white\",\"linecolor\":\"white\",\"minorgridcolor\":\"white\",\"startlinecolor\":\"#2a3f5f\"},\"baxis\":{\"endlinecolor\":\"#2a3f5f\",\"gridcolor\":\"white\",\"linecolor\":\"white\",\"minorgridcolor\":\"white\",\"startlinecolor\":\"#2a3f5f\"},\"type\":\"carpet\"}],\"table\":[{\"cells\":{\"fill\":{\"color\":\"#EBF0F8\"},\"line\":{\"color\":\"white\"}},\"header\":{\"fill\":{\"color\":\"#C8D4E3\"},\"line\":{\"color\":\"white\"}},\"type\":\"table\"}],\"barpolar\":[{\"marker\":{\"line\":{\"color\":\"#E5ECF6\",\"width\":0.5},\"pattern\":{\"fillmode\":\"overlay\",\"size\":10,\"solidity\":0.2}},\"type\":\"barpolar\"}],\"pie\":[{\"automargin\":true,\"type\":\"pie\"}]},\"layout\":{\"autotypenumbers\":\"strict\",\"colorway\":[\"#636efa\",\"#EF553B\",\"#00cc96\",\"#ab63fa\",\"#FFA15A\",\"#19d3f3\",\"#FF6692\",\"#B6E880\",\"#FF97FF\",\"#FECB52\"],\"font\":{\"color\":\"#2a3f5f\"},\"hovermode\":\"closest\",\"hoverlabel\":{\"align\":\"left\"},\"paper_bgcolor\":\"white\",\"plot_bgcolor\":\"#E5ECF6\",\"polar\":{\"bgcolor\":\"#E5ECF6\",\"angularaxis\":{\"gridcolor\":\"white\",\"linecolor\":\"white\",\"ticks\":\"\"},\"radialaxis\":{\"gridcolor\":\"white\",\"linecolor\":\"white\",\"ticks\":\"\"}},\"ternary\":{\"bgcolor\":\"#E5ECF6\",\"aaxis\":{\"gridcolor\":\"white\",\"linecolor\":\"white\",\"ticks\":\"\"},\"baxis\":{\"gridcolor\":\"white\",\"linecolor\":\"white\",\"ticks\":\"\"},\"caxis\":{\"gridcolor\":\"white\",\"linecolor\":\"white\",\"ticks\":\"\"}},\"coloraxis\":{\"colorbar\":{\"outlinewidth\":0,\"ticks\":\"\"}},\"colorscale\":{\"sequential\":[[0.0,\"#0d0887\"],[0.1111111111111111,\"#46039f\"],[0.2222222222222222,\"#7201a8\"],[0.3333333333333333,\"#9c179e\"],[0.4444444444444444,\"#bd3786\"],[0.5555555555555556,\"#d8576b\"],[0.6666666666666666,\"#ed7953\"],[0.7777777777777778,\"#fb9f3a\"],[0.8888888888888888,\"#fdca26\"],[1.0,\"#f0f921\"]],\"sequentialminus\":[[0.0,\"#0d0887\"],[0.1111111111111111,\"#46039f\"],[0.2222222222222222,\"#7201a8\"],[0.3333333333333333,\"#9c179e\"],[0.4444444444444444,\"#bd3786\"],[0.5555555555555556,\"#d8576b\"],[0.6666666666666666,\"#ed7953\"],[0.7777777777777778,\"#fb9f3a\"],[0.8888888888888888,\"#fdca26\"],[1.0,\"#f0f921\"]],\"diverging\":[[0,\"#8e0152\"],[0.1,\"#c51b7d\"],[0.2,\"#de77ae\"],[0.3,\"#f1b6da\"],[0.4,\"#fde0ef\"],[0.5,\"#f7f7f7\"],[0.6,\"#e6f5d0\"],[0.7,\"#b8e186\"],[0.8,\"#7fbc41\"],[0.9,\"#4d9221\"],[1,\"#276419\"]]},\"xaxis\":{\"gridcolor\":\"white\",\"linecolor\":\"white\",\"ticks\":\"\",\"title\":{\"standoff\":15},\"zerolinecolor\":\"white\",\"automargin\":true,\"zerolinewidth\":2},\"yaxis\":{\"gridcolor\":\"white\",\"linecolor\":\"white\",\"ticks\":\"\",\"title\":{\"standoff\":15},\"zerolinecolor\":\"white\",\"automargin\":true,\"zerolinewidth\":2},\"scene\":{\"xaxis\":{\"backgroundcolor\":\"#E5ECF6\",\"gridcolor\":\"white\",\"linecolor\":\"white\",\"showbackground\":true,\"ticks\":\"\",\"zerolinecolor\":\"white\",\"gridwidth\":2},\"yaxis\":{\"backgroundcolor\":\"#E5ECF6\",\"gridcolor\":\"white\",\"linecolor\":\"white\",\"showbackground\":true,\"ticks\":\"\",\"zerolinecolor\":\"white\",\"gridwidth\":2},\"zaxis\":{\"backgroundcolor\":\"#E5ECF6\",\"gridcolor\":\"white\",\"linecolor\":\"white\",\"showbackground\":true,\"ticks\":\"\",\"zerolinecolor\":\"white\",\"gridwidth\":2}},\"shapedefaults\":{\"line\":{\"color\":\"#2a3f5f\"}},\"annotationdefaults\":{\"arrowcolor\":\"#2a3f5f\",\"arrowhead\":0,\"arrowwidth\":1},\"geo\":{\"bgcolor\":\"white\",\"landcolor\":\"#E5ECF6\",\"subunitcolor\":\"white\",\"showland\":true,\"showlakes\":true,\"lakecolor\":\"white\"},\"title\":{\"x\":0.05},\"mapbox\":{\"style\":\"light\"}}},\"xaxis\":{\"anchor\":\"y\",\"domain\":[0.0,1.0],\"title\":{\"text\":\"x\"}},\"yaxis\":{\"anchor\":\"x\",\"domain\":[0.0,1.0],\"title\":{\"text\":\"PDF\"}},\"legend\":{\"tracegroupgap\":0},\"title\":{\"text\":\"NDX Negative Days Normal Distribution\"}},                        {\"responsive\": true}                    ).then(function(){\n",
              "                            \n",
              "var gd = document.getElementById('f70f1682-abba-44e9-9a84-1f8167192046');\n",
              "var x = new MutationObserver(function (mutations, observer) {{\n",
              "        var display = window.getComputedStyle(gd).display;\n",
              "        if (!display || display === 'none') {{\n",
              "            console.log([gd, 'removed!']);\n",
              "            Plotly.purge(gd);\n",
              "            observer.disconnect();\n",
              "        }}\n",
              "}});\n",
              "\n",
              "// Listen for the removal of the full notebook cells\n",
              "var notebookContainer = gd.closest('#notebook-container');\n",
              "if (notebookContainer) {{\n",
              "    x.observe(notebookContainer, {childList: true});\n",
              "}}\n",
              "\n",
              "// Listen for the clearing of the current output cell\n",
              "var outputEl = gd.closest('.output');\n",
              "if (outputEl) {{\n",
              "    x.observe(outputEl, {childList: true});\n",
              "}}\n",
              "\n",
              "                        })                };                            </script>        </div>\n",
              "</body>\n",
              "</html>"
            ]
          },
          "metadata": {}
        }
      ]
    },
    {
      "cell_type": "code",
      "source": [
        "# Create a range of values for x-axis based on df_ndx_positive\n",
        "x_dji_positive = np.linspace(df_dji_positive['Abs_Percent_Change'].min(), df_dji_positive['Abs_Percent_Change'].max(), len(df_dji_positive))\n",
        "\n",
        "# Calculate the probability density functions (PDFs) for positive days\n",
        "pdfs_positive_dji = stats.norm.pdf(x_dji_positive, loc=df_dji_positive['Abs_Percent_Change'].mean(), scale=df_dji_positive['Abs_Percent_Change'].std())\n",
        "\n",
        "# Create a range of values for x-axis based on df_ndx_negative\n",
        "x_dji_negative = np.linspace(df_dji_negative['Abs_Percent_Change'].min(), df_dji_negative['Abs_Percent_Change'].max(), len(df_dji_positive))\n",
        "\n",
        "# Calculate the probability density functions (PDFs) for negative days\n",
        "pdfs_negative_dji = stats.norm.pdf(x_dji_negative, loc=df_dji_negative['Abs_Percent_Change'].mean(), scale=df_dji_negative['Abs_Percent_Change'].std())\n",
        "1\n",
        "# Create interactive plots using Plotly for NDX\n",
        "fig_dji_positive = px.line(x=x_dji_positive, y=pdfs_positive_dji, title=\"DJI Positive Days Normal Distribution\")\n",
        "fig_dji_positive.update_xaxes(title=\"x\")\n",
        "fig_dji_positive.update_yaxes(title=\"PDF\")\n",
        "\n",
        "fig_dji_negative = px.line(x=x_dji_negative, y=pdfs_negative_dji, title=\"DJI Negative Days Normal Distribution\")\n",
        "fig_dji_negative.update_xaxes(title=\"x\")\n",
        "fig_dji_negative.update_yaxes(title=\"PDF\")\n",
        "\n",
        "# Show the interactive plots for NDX\n",
        "fig_dji_positive.show()\n",
        "fig_dji_negative.show()"
      ],
      "metadata": {
        "id": "tz2RCXVPZR3C",
        "colab": {
          "base_uri": "https://localhost:8080/",
          "height": 1000
        },
        "outputId": "bb0c3f14-b055-447a-af8d-c96fae0f596b"
      },
      "execution_count": null,
      "outputs": [
        {
          "output_type": "display_data",
          "data": {
            "text/html": [
              "<html>\n",
              "<head><meta charset=\"utf-8\" /></head>\n",
              "<body>\n",
              "    <div>            <script src=\"https://cdnjs.cloudflare.com/ajax/libs/mathjax/2.7.5/MathJax.js?config=TeX-AMS-MML_SVG\"></script><script type=\"text/javascript\">if (window.MathJax && window.MathJax.Hub && window.MathJax.Hub.Config) {window.MathJax.Hub.Config({SVG: {font: \"STIX-Web\"}});}</script>                <script type=\"text/javascript\">window.PlotlyConfig = {MathJaxConfig: 'local'};</script>\n",
              "        <script charset=\"utf-8\" src=\"https://cdn.plot.ly/plotly-2.24.1.min.js\"></script>                <div id=\"ff27f040-d814-49d5-ab84-6c3494c26460\" class=\"plotly-graph-div\" style=\"height:525px; width:100%;\"></div>            <script type=\"text/javascript\">                                    window.PLOTLYENV=window.PLOTLYENV || {};                                    if (document.getElementById(\"ff27f040-d814-49d5-ab84-6c3494c26460\")) {                    Plotly.newPlot(                        \"ff27f040-d814-49d5-ab84-6c3494c26460\",                        [{\"hovertemplate\":\"x=%{x}\\u003cbr\\u003ey=%{y}\\u003cextra\\u003e\\u003c\\u002fextra\\u003e\",\"legendgroup\":\"\",\"line\":{\"color\":\"#636efa\",\"dash\":\"solid\"},\"marker\":{\"symbol\":\"circle\"},\"mode\":\"lines\",\"name\":\"\",\"orientation\":\"v\",\"showlegend\":false,\"x\":[0.0,0.014168626709957156,0.02833725341991431,0.04250588012987147,0.05667450683982862,0.07084313354978578,0.08501176025974294,0.0991803869697001,0.11334901367965725,0.1275176403896144,0.14168626709957155,0.15585489380952872,0.17002352051948588,0.18419214722944302,0.1983607739394002,0.21252940064935733,0.2266980273593145,0.24086665406927166,0.2550352807792288,0.26920390748918593,0.2833725341991431,0.29754116090910027,0.31170978761905743,0.3258784143290146,0.34004704103897176,0.3542156677489289,0.36838429445888604,0.3825529211688432,0.3967215478788004,0.41089017458875754,0.42505880129871465,0.4392274280086718,0.453396054718629,0.46756468142858615,0.4817333081385433,0.4959019348485004,0.5100705615584576,0.5242391882684148,0.5384078149783719,0.5525764416883291,0.5667450683982862,0.5809136951082434,0.5950823218182005,0.6092509485281576,0.6234195752381149,0.637588201948072,0.6517568286580292,0.6659254553679863,0.6800940820779435,0.6942627087879006,0.7084313354978578,0.722599962207815,0.7367685889177721,0.7509372156277293,0.7651058423376864,0.7792744690476435,0.7934430957576007,0.8076117224675579,0.8217803491775151,0.8359489758874722,0.8501176025974293,0.8642862293073865,0.8784548560173436,0.8926234827273009,0.906792109437258,0.9209607361472151,0.9351293628571723,0.9492979895671294,0.9634666162770866,0.9776352429870437,0.9918038696970009,1.005972496406958,1.0201411231169153,1.0343097498268723,1.0484783765368295,1.0626470032467867,1.0768156299567437,1.090984256666701,1.1051528833766582,1.1193215100866154,1.1334901367965724,1.1476587635065296,1.1618273902164868,1.1759960169264438,1.190164643636401,1.2043332703463583,1.2185018970563153,1.2326705237662725,1.2468391504762297,1.261007777186187,1.275176403896144,1.2893450306061012,1.3035136573160584,1.3176822840260154,1.3318509107359726,1.3460195374459298],\"xaxis\":\"x\",\"y\":[0.9558853230085209,1.0068325627145394,1.0573271604741623,1.1070371619069306,1.1556216969968776,1.2027347263306727,1.2480290362391442,1.2911604207098746,1.3317919813347359,1.3695984713550462,1.4042706062654637,1.4355192615916292,1.4630794784740602,1.4867141996270494,1.5062176620951515,1.521418378942231,1.5321816494628124,1.5384115465317518,1.540052340085353,1.5370893271909332,1.5295490514132284,1.5174989069001068,1.501046135446801,1.4803362374133326,1.4555508294271857,1.4269049929840971,1.3946441680739845,1.3590406545541824,1.320389790961322,1.2790058856408628,1.2352179783794903,1.1893655121080011,1.1417939937161334,1.0928507206569062,1.0428806459388185,0.9922224484781874,0.9412048688182935,0.8901433621550873,0.83933711170096,0.7890664359412389,0.7395906135684919,0.6911461400877771,0.6439454205279159,0.5981758936046357,0.5539995742684648,0.5115529940083949,0.47094751171062493,0.43226996239119786,0.3955836067946214,0.360929341702592,0.32832712881695547,0.2977775992258664,0.2692637906599509,0.24275297590045194,0.21819854269931438,0.19554188828374444,0.174714294808473,0.15563875584784423,0.1382317280484945,0.12240478625872955,0.10806616468885029,0.09512217082567404,0.08347846282651354,0.07304118487068793,0.06371795838443717,0.05541873012852602,0.04805648081363831,0.04154780016874747,0.03581333622778735,0.030778128028074895,0.026371831948458494,0.02252885258294371,0.01918838937997443,0.016294410316640136,0.013795563661690784,0.01164503845338654,0.009800383719668015,0.008223295739186943,0.006879381820190498,0.0057379081946634086,0.004771538718278093,0.003956070159234561,0.0032701689733860167,0.002695113617287043,0.002214545659027885,0.0018142322191551819,0.001481841617367594,0.0012067335186644668,0.0009797643662078528,0.0007931084561041267,0.0006400946486076506,0.0005150584165089416,0.0004132086993183675,0.00033050885527139524,0.00026357087579497444,0.00020956194242554397],\"yaxis\":\"y\",\"type\":\"scatter\"}],                        {\"template\":{\"data\":{\"histogram2dcontour\":[{\"type\":\"histogram2dcontour\",\"colorbar\":{\"outlinewidth\":0,\"ticks\":\"\"},\"colorscale\":[[0.0,\"#0d0887\"],[0.1111111111111111,\"#46039f\"],[0.2222222222222222,\"#7201a8\"],[0.3333333333333333,\"#9c179e\"],[0.4444444444444444,\"#bd3786\"],[0.5555555555555556,\"#d8576b\"],[0.6666666666666666,\"#ed7953\"],[0.7777777777777778,\"#fb9f3a\"],[0.8888888888888888,\"#fdca26\"],[1.0,\"#f0f921\"]]}],\"choropleth\":[{\"type\":\"choropleth\",\"colorbar\":{\"outlinewidth\":0,\"ticks\":\"\"}}],\"histogram2d\":[{\"type\":\"histogram2d\",\"colorbar\":{\"outlinewidth\":0,\"ticks\":\"\"},\"colorscale\":[[0.0,\"#0d0887\"],[0.1111111111111111,\"#46039f\"],[0.2222222222222222,\"#7201a8\"],[0.3333333333333333,\"#9c179e\"],[0.4444444444444444,\"#bd3786\"],[0.5555555555555556,\"#d8576b\"],[0.6666666666666666,\"#ed7953\"],[0.7777777777777778,\"#fb9f3a\"],[0.8888888888888888,\"#fdca26\"],[1.0,\"#f0f921\"]]}],\"heatmap\":[{\"type\":\"heatmap\",\"colorbar\":{\"outlinewidth\":0,\"ticks\":\"\"},\"colorscale\":[[0.0,\"#0d0887\"],[0.1111111111111111,\"#46039f\"],[0.2222222222222222,\"#7201a8\"],[0.3333333333333333,\"#9c179e\"],[0.4444444444444444,\"#bd3786\"],[0.5555555555555556,\"#d8576b\"],[0.6666666666666666,\"#ed7953\"],[0.7777777777777778,\"#fb9f3a\"],[0.8888888888888888,\"#fdca26\"],[1.0,\"#f0f921\"]]}],\"heatmapgl\":[{\"type\":\"heatmapgl\",\"colorbar\":{\"outlinewidth\":0,\"ticks\":\"\"},\"colorscale\":[[0.0,\"#0d0887\"],[0.1111111111111111,\"#46039f\"],[0.2222222222222222,\"#7201a8\"],[0.3333333333333333,\"#9c179e\"],[0.4444444444444444,\"#bd3786\"],[0.5555555555555556,\"#d8576b\"],[0.6666666666666666,\"#ed7953\"],[0.7777777777777778,\"#fb9f3a\"],[0.8888888888888888,\"#fdca26\"],[1.0,\"#f0f921\"]]}],\"contourcarpet\":[{\"type\":\"contourcarpet\",\"colorbar\":{\"outlinewidth\":0,\"ticks\":\"\"}}],\"contour\":[{\"type\":\"contour\",\"colorbar\":{\"outlinewidth\":0,\"ticks\":\"\"},\"colorscale\":[[0.0,\"#0d0887\"],[0.1111111111111111,\"#46039f\"],[0.2222222222222222,\"#7201a8\"],[0.3333333333333333,\"#9c179e\"],[0.4444444444444444,\"#bd3786\"],[0.5555555555555556,\"#d8576b\"],[0.6666666666666666,\"#ed7953\"],[0.7777777777777778,\"#fb9f3a\"],[0.8888888888888888,\"#fdca26\"],[1.0,\"#f0f921\"]]}],\"surface\":[{\"type\":\"surface\",\"colorbar\":{\"outlinewidth\":0,\"ticks\":\"\"},\"colorscale\":[[0.0,\"#0d0887\"],[0.1111111111111111,\"#46039f\"],[0.2222222222222222,\"#7201a8\"],[0.3333333333333333,\"#9c179e\"],[0.4444444444444444,\"#bd3786\"],[0.5555555555555556,\"#d8576b\"],[0.6666666666666666,\"#ed7953\"],[0.7777777777777778,\"#fb9f3a\"],[0.8888888888888888,\"#fdca26\"],[1.0,\"#f0f921\"]]}],\"mesh3d\":[{\"type\":\"mesh3d\",\"colorbar\":{\"outlinewidth\":0,\"ticks\":\"\"}}],\"scatter\":[{\"fillpattern\":{\"fillmode\":\"overlay\",\"size\":10,\"solidity\":0.2},\"type\":\"scatter\"}],\"parcoords\":[{\"type\":\"parcoords\",\"line\":{\"colorbar\":{\"outlinewidth\":0,\"ticks\":\"\"}}}],\"scatterpolargl\":[{\"type\":\"scatterpolargl\",\"marker\":{\"colorbar\":{\"outlinewidth\":0,\"ticks\":\"\"}}}],\"bar\":[{\"error_x\":{\"color\":\"#2a3f5f\"},\"error_y\":{\"color\":\"#2a3f5f\"},\"marker\":{\"line\":{\"color\":\"#E5ECF6\",\"width\":0.5},\"pattern\":{\"fillmode\":\"overlay\",\"size\":10,\"solidity\":0.2}},\"type\":\"bar\"}],\"scattergeo\":[{\"type\":\"scattergeo\",\"marker\":{\"colorbar\":{\"outlinewidth\":0,\"ticks\":\"\"}}}],\"scatterpolar\":[{\"type\":\"scatterpolar\",\"marker\":{\"colorbar\":{\"outlinewidth\":0,\"ticks\":\"\"}}}],\"histogram\":[{\"marker\":{\"pattern\":{\"fillmode\":\"overlay\",\"size\":10,\"solidity\":0.2}},\"type\":\"histogram\"}],\"scattergl\":[{\"type\":\"scattergl\",\"marker\":{\"colorbar\":{\"outlinewidth\":0,\"ticks\":\"\"}}}],\"scatter3d\":[{\"type\":\"scatter3d\",\"line\":{\"colorbar\":{\"outlinewidth\":0,\"ticks\":\"\"}},\"marker\":{\"colorbar\":{\"outlinewidth\":0,\"ticks\":\"\"}}}],\"scattermapbox\":[{\"type\":\"scattermapbox\",\"marker\":{\"colorbar\":{\"outlinewidth\":0,\"ticks\":\"\"}}}],\"scatterternary\":[{\"type\":\"scatterternary\",\"marker\":{\"colorbar\":{\"outlinewidth\":0,\"ticks\":\"\"}}}],\"scattercarpet\":[{\"type\":\"scattercarpet\",\"marker\":{\"colorbar\":{\"outlinewidth\":0,\"ticks\":\"\"}}}],\"carpet\":[{\"aaxis\":{\"endlinecolor\":\"#2a3f5f\",\"gridcolor\":\"white\",\"linecolor\":\"white\",\"minorgridcolor\":\"white\",\"startlinecolor\":\"#2a3f5f\"},\"baxis\":{\"endlinecolor\":\"#2a3f5f\",\"gridcolor\":\"white\",\"linecolor\":\"white\",\"minorgridcolor\":\"white\",\"startlinecolor\":\"#2a3f5f\"},\"type\":\"carpet\"}],\"table\":[{\"cells\":{\"fill\":{\"color\":\"#EBF0F8\"},\"line\":{\"color\":\"white\"}},\"header\":{\"fill\":{\"color\":\"#C8D4E3\"},\"line\":{\"color\":\"white\"}},\"type\":\"table\"}],\"barpolar\":[{\"marker\":{\"line\":{\"color\":\"#E5ECF6\",\"width\":0.5},\"pattern\":{\"fillmode\":\"overlay\",\"size\":10,\"solidity\":0.2}},\"type\":\"barpolar\"}],\"pie\":[{\"automargin\":true,\"type\":\"pie\"}]},\"layout\":{\"autotypenumbers\":\"strict\",\"colorway\":[\"#636efa\",\"#EF553B\",\"#00cc96\",\"#ab63fa\",\"#FFA15A\",\"#19d3f3\",\"#FF6692\",\"#B6E880\",\"#FF97FF\",\"#FECB52\"],\"font\":{\"color\":\"#2a3f5f\"},\"hovermode\":\"closest\",\"hoverlabel\":{\"align\":\"left\"},\"paper_bgcolor\":\"white\",\"plot_bgcolor\":\"#E5ECF6\",\"polar\":{\"bgcolor\":\"#E5ECF6\",\"angularaxis\":{\"gridcolor\":\"white\",\"linecolor\":\"white\",\"ticks\":\"\"},\"radialaxis\":{\"gridcolor\":\"white\",\"linecolor\":\"white\",\"ticks\":\"\"}},\"ternary\":{\"bgcolor\":\"#E5ECF6\",\"aaxis\":{\"gridcolor\":\"white\",\"linecolor\":\"white\",\"ticks\":\"\"},\"baxis\":{\"gridcolor\":\"white\",\"linecolor\":\"white\",\"ticks\":\"\"},\"caxis\":{\"gridcolor\":\"white\",\"linecolor\":\"white\",\"ticks\":\"\"}},\"coloraxis\":{\"colorbar\":{\"outlinewidth\":0,\"ticks\":\"\"}},\"colorscale\":{\"sequential\":[[0.0,\"#0d0887\"],[0.1111111111111111,\"#46039f\"],[0.2222222222222222,\"#7201a8\"],[0.3333333333333333,\"#9c179e\"],[0.4444444444444444,\"#bd3786\"],[0.5555555555555556,\"#d8576b\"],[0.6666666666666666,\"#ed7953\"],[0.7777777777777778,\"#fb9f3a\"],[0.8888888888888888,\"#fdca26\"],[1.0,\"#f0f921\"]],\"sequentialminus\":[[0.0,\"#0d0887\"],[0.1111111111111111,\"#46039f\"],[0.2222222222222222,\"#7201a8\"],[0.3333333333333333,\"#9c179e\"],[0.4444444444444444,\"#bd3786\"],[0.5555555555555556,\"#d8576b\"],[0.6666666666666666,\"#ed7953\"],[0.7777777777777778,\"#fb9f3a\"],[0.8888888888888888,\"#fdca26\"],[1.0,\"#f0f921\"]],\"diverging\":[[0,\"#8e0152\"],[0.1,\"#c51b7d\"],[0.2,\"#de77ae\"],[0.3,\"#f1b6da\"],[0.4,\"#fde0ef\"],[0.5,\"#f7f7f7\"],[0.6,\"#e6f5d0\"],[0.7,\"#b8e186\"],[0.8,\"#7fbc41\"],[0.9,\"#4d9221\"],[1,\"#276419\"]]},\"xaxis\":{\"gridcolor\":\"white\",\"linecolor\":\"white\",\"ticks\":\"\",\"title\":{\"standoff\":15},\"zerolinecolor\":\"white\",\"automargin\":true,\"zerolinewidth\":2},\"yaxis\":{\"gridcolor\":\"white\",\"linecolor\":\"white\",\"ticks\":\"\",\"title\":{\"standoff\":15},\"zerolinecolor\":\"white\",\"automargin\":true,\"zerolinewidth\":2},\"scene\":{\"xaxis\":{\"backgroundcolor\":\"#E5ECF6\",\"gridcolor\":\"white\",\"linecolor\":\"white\",\"showbackground\":true,\"ticks\":\"\",\"zerolinecolor\":\"white\",\"gridwidth\":2},\"yaxis\":{\"backgroundcolor\":\"#E5ECF6\",\"gridcolor\":\"white\",\"linecolor\":\"white\",\"showbackground\":true,\"ticks\":\"\",\"zerolinecolor\":\"white\",\"gridwidth\":2},\"zaxis\":{\"backgroundcolor\":\"#E5ECF6\",\"gridcolor\":\"white\",\"linecolor\":\"white\",\"showbackground\":true,\"ticks\":\"\",\"zerolinecolor\":\"white\",\"gridwidth\":2}},\"shapedefaults\":{\"line\":{\"color\":\"#2a3f5f\"}},\"annotationdefaults\":{\"arrowcolor\":\"#2a3f5f\",\"arrowhead\":0,\"arrowwidth\":1},\"geo\":{\"bgcolor\":\"white\",\"landcolor\":\"#E5ECF6\",\"subunitcolor\":\"white\",\"showland\":true,\"showlakes\":true,\"lakecolor\":\"white\"},\"title\":{\"x\":0.05},\"mapbox\":{\"style\":\"light\"}}},\"xaxis\":{\"anchor\":\"y\",\"domain\":[0.0,1.0],\"title\":{\"text\":\"x\"}},\"yaxis\":{\"anchor\":\"x\",\"domain\":[0.0,1.0],\"title\":{\"text\":\"PDF\"}},\"legend\":{\"tracegroupgap\":0},\"title\":{\"text\":\"DJI Positive Days Normal Distribution\"}},                        {\"responsive\": true}                    ).then(function(){\n",
              "                            \n",
              "var gd = document.getElementById('ff27f040-d814-49d5-ab84-6c3494c26460');\n",
              "var x = new MutationObserver(function (mutations, observer) {{\n",
              "        var display = window.getComputedStyle(gd).display;\n",
              "        if (!display || display === 'none') {{\n",
              "            console.log([gd, 'removed!']);\n",
              "            Plotly.purge(gd);\n",
              "            observer.disconnect();\n",
              "        }}\n",
              "}});\n",
              "\n",
              "// Listen for the removal of the full notebook cells\n",
              "var notebookContainer = gd.closest('#notebook-container');\n",
              "if (notebookContainer) {{\n",
              "    x.observe(notebookContainer, {childList: true});\n",
              "}}\n",
              "\n",
              "// Listen for the clearing of the current output cell\n",
              "var outputEl = gd.closest('.output');\n",
              "if (outputEl) {{\n",
              "    x.observe(outputEl, {childList: true});\n",
              "}}\n",
              "\n",
              "                        })                };                            </script>        </div>\n",
              "</body>\n",
              "</html>"
            ]
          },
          "metadata": {}
        },
        {
          "output_type": "display_data",
          "data": {
            "text/html": [
              "<html>\n",
              "<head><meta charset=\"utf-8\" /></head>\n",
              "<body>\n",
              "    <div>            <script src=\"https://cdnjs.cloudflare.com/ajax/libs/mathjax/2.7.5/MathJax.js?config=TeX-AMS-MML_SVG\"></script><script type=\"text/javascript\">if (window.MathJax && window.MathJax.Hub && window.MathJax.Hub.Config) {window.MathJax.Hub.Config({SVG: {font: \"STIX-Web\"}});}</script>                <script type=\"text/javascript\">window.PlotlyConfig = {MathJaxConfig: 'local'};</script>\n",
              "        <script charset=\"utf-8\" src=\"https://cdn.plot.ly/plotly-2.24.1.min.js\"></script>                <div id=\"eddb0511-152c-4cf0-8b58-adc7705824db\" class=\"plotly-graph-div\" style=\"height:525px; width:100%;\"></div>            <script type=\"text/javascript\">                                    window.PLOTLYENV=window.PLOTLYENV || {};                                    if (document.getElementById(\"eddb0511-152c-4cf0-8b58-adc7705824db\")) {                    Plotly.newPlot(                        \"eddb0511-152c-4cf0-8b58-adc7705824db\",                        [{\"hovertemplate\":\"x=%{x}\\u003cbr\\u003ey=%{y}\\u003cextra\\u003e\\u003c\\u002fextra\\u003e\",\"legendgroup\":\"\",\"line\":{\"color\":\"#636efa\",\"dash\":\"solid\"},\"marker\":{\"symbol\":\"circle\"},\"mode\":\"lines\",\"name\":\"\",\"orientation\":\"v\",\"showlegend\":false,\"x\":[0.0,0.013907864993116525,0.02781572998623305,0.041723594979349576,0.0556314599724661,0.06953932496558263,0.08344718995869915,0.09735505495181568,0.1112629199449322,0.12517078493804873,0.13907864993116525,0.15298651492428178,0.1668943799173983,0.18080224491051483,0.19471010990363136,0.20861797489674788,0.2225258398898644,0.23643370488298093,0.25034156987609746,0.264249434869214,0.2781572998623305,0.29206516485544703,0.30597302984856356,0.3198808948416801,0.3337887598347966,0.34769662482791314,0.36160448982102966,0.3755123548141462,0.3894202198072627,0.40332808480037924,0.41723594979349576,0.4311438147866123,0.4450516797797288,0.45895954477284534,0.47286740976596187,0.4867752747590784,0.5006831397521949,0.5145910047453115,0.528498869738428,0.5424067347315444,0.556314599724661,0.5702224647177776,0.5841303297108941,0.5980381947040105,0.6119460596971271,0.6258539246902437,0.6397617896833602,0.6536696546764766,0.6675775196695932,0.6814853846627098,0.6953932496558263,0.7093011146489427,0.7232089796420593,0.7371168446351759,0.7510247096282924,0.7649325746214088,0.7788404396145254,0.792748304607642,0.8066561696007585,0.820564034593875,0.8344718995869915,0.8483797645801081,0.8622876295732246,0.876195494566341,0.8901033595594576,0.9040112245525742,0.9179190895456907,0.9318269545388072,0.9457348195319237,0.9596426845250403,0.9735505495181568,0.9874584145112733,1.0013662795043898,1.0152741444975064,1.029182009490623,1.0430898744837394,1.056997739476856,1.0709056044699725,1.0848134694630889,1.0987213344562055,1.112629199449322,1.1265370644424386,1.1404449294355552,1.1543527944286716,1.1682606594217881,1.1821685244149047,1.196076389408021,1.2099842544011377,1.2238921193942542,1.2377999843873708,1.2517078493804874,1.2656157143736038,1.2795235793667203,1.293431444359837,1.3073393093529533,1.3212471743460699],\"xaxis\":\"x\",\"y\":[0.9376410488102201,0.9829799341455353,1.027811750308889,1.071873143489324,1.1148953033262337,1.1566066037780733,1.1967353910673078,1.2350128799751003,1.271176116239033,1.3049709600550352,1.3361550437942091,1.364500656090174,1.3897975044843671,1.411855309862115,1.4305061879719316,1.4456067763682512,1.4570400691009004,1.4647169263147102,1.4685772315175598,1.4685906755014866,1.4647571526180843,1.4571067621610074,1.445699414830286,1.4306240514755966,1.411997488369035,1.3899629099773907,1.3646880364341984,1.3363629985116081,1.3051979577378365,1.2714205132953602,1.2352729403894966,1.1970093068436805,1.1568925157302352,1.1151913218842544,1.0721773691998921,1.028122293724163,0.9832949348169563,0.9379586931307442,0.8923690699891385,0.8467714180323652,0.8013989278810212,0.7564708701827929,0.7121911068866231,0.668746880068208,0.6263078812360906,0.585025598895416,0.5450329373403883,0.506444095275528,0.4693546890025164,0.43384210160874825,0.39996603689302834,0.36776925468266997,0.3372784627372391,0.3085053395840832,0.28144766236210006,0.25609051402296573,0.2324075450029737,0.21036226567527674,0.18990934745745067,0.17099591231504027,0.15356279249892074,0.13754574461426494,0.12287660447557026,0.10948437159337017,0.09729621450717947,0.0862383904753762,0.07623707521272224,0.06721910039409627,0.059112598490509746,0.05184755614988415,0.045356278767011586,0.03957377009800142,0.034438031763966565,0.029890288261813214,0.025875143666534945,0.02234067658296139,0.019238480102053795,0.016523653556299714,0.014154752770635127,0.012093705290368574,0.01030569675655404,0.008759034212369904,0.007424991680518804,0.0062776428692874735,0.005293685359877433,0.004452260114267534,0.0037347696335885174,0.00312469760218336,0.0026074323806517534,0.002170096268811512,0.0018013820514863124,0.0014913979695763467,0.0012315219277928375,0.0010142654593048113,0.0008331477158755703,0.0006825795385174588],\"yaxis\":\"y\",\"type\":\"scatter\"}],                        {\"template\":{\"data\":{\"histogram2dcontour\":[{\"type\":\"histogram2dcontour\",\"colorbar\":{\"outlinewidth\":0,\"ticks\":\"\"},\"colorscale\":[[0.0,\"#0d0887\"],[0.1111111111111111,\"#46039f\"],[0.2222222222222222,\"#7201a8\"],[0.3333333333333333,\"#9c179e\"],[0.4444444444444444,\"#bd3786\"],[0.5555555555555556,\"#d8576b\"],[0.6666666666666666,\"#ed7953\"],[0.7777777777777778,\"#fb9f3a\"],[0.8888888888888888,\"#fdca26\"],[1.0,\"#f0f921\"]]}],\"choropleth\":[{\"type\":\"choropleth\",\"colorbar\":{\"outlinewidth\":0,\"ticks\":\"\"}}],\"histogram2d\":[{\"type\":\"histogram2d\",\"colorbar\":{\"outlinewidth\":0,\"ticks\":\"\"},\"colorscale\":[[0.0,\"#0d0887\"],[0.1111111111111111,\"#46039f\"],[0.2222222222222222,\"#7201a8\"],[0.3333333333333333,\"#9c179e\"],[0.4444444444444444,\"#bd3786\"],[0.5555555555555556,\"#d8576b\"],[0.6666666666666666,\"#ed7953\"],[0.7777777777777778,\"#fb9f3a\"],[0.8888888888888888,\"#fdca26\"],[1.0,\"#f0f921\"]]}],\"heatmap\":[{\"type\":\"heatmap\",\"colorbar\":{\"outlinewidth\":0,\"ticks\":\"\"},\"colorscale\":[[0.0,\"#0d0887\"],[0.1111111111111111,\"#46039f\"],[0.2222222222222222,\"#7201a8\"],[0.3333333333333333,\"#9c179e\"],[0.4444444444444444,\"#bd3786\"],[0.5555555555555556,\"#d8576b\"],[0.6666666666666666,\"#ed7953\"],[0.7777777777777778,\"#fb9f3a\"],[0.8888888888888888,\"#fdca26\"],[1.0,\"#f0f921\"]]}],\"heatmapgl\":[{\"type\":\"heatmapgl\",\"colorbar\":{\"outlinewidth\":0,\"ticks\":\"\"},\"colorscale\":[[0.0,\"#0d0887\"],[0.1111111111111111,\"#46039f\"],[0.2222222222222222,\"#7201a8\"],[0.3333333333333333,\"#9c179e\"],[0.4444444444444444,\"#bd3786\"],[0.5555555555555556,\"#d8576b\"],[0.6666666666666666,\"#ed7953\"],[0.7777777777777778,\"#fb9f3a\"],[0.8888888888888888,\"#fdca26\"],[1.0,\"#f0f921\"]]}],\"contourcarpet\":[{\"type\":\"contourcarpet\",\"colorbar\":{\"outlinewidth\":0,\"ticks\":\"\"}}],\"contour\":[{\"type\":\"contour\",\"colorbar\":{\"outlinewidth\":0,\"ticks\":\"\"},\"colorscale\":[[0.0,\"#0d0887\"],[0.1111111111111111,\"#46039f\"],[0.2222222222222222,\"#7201a8\"],[0.3333333333333333,\"#9c179e\"],[0.4444444444444444,\"#bd3786\"],[0.5555555555555556,\"#d8576b\"],[0.6666666666666666,\"#ed7953\"],[0.7777777777777778,\"#fb9f3a\"],[0.8888888888888888,\"#fdca26\"],[1.0,\"#f0f921\"]]}],\"surface\":[{\"type\":\"surface\",\"colorbar\":{\"outlinewidth\":0,\"ticks\":\"\"},\"colorscale\":[[0.0,\"#0d0887\"],[0.1111111111111111,\"#46039f\"],[0.2222222222222222,\"#7201a8\"],[0.3333333333333333,\"#9c179e\"],[0.4444444444444444,\"#bd3786\"],[0.5555555555555556,\"#d8576b\"],[0.6666666666666666,\"#ed7953\"],[0.7777777777777778,\"#fb9f3a\"],[0.8888888888888888,\"#fdca26\"],[1.0,\"#f0f921\"]]}],\"mesh3d\":[{\"type\":\"mesh3d\",\"colorbar\":{\"outlinewidth\":0,\"ticks\":\"\"}}],\"scatter\":[{\"fillpattern\":{\"fillmode\":\"overlay\",\"size\":10,\"solidity\":0.2},\"type\":\"scatter\"}],\"parcoords\":[{\"type\":\"parcoords\",\"line\":{\"colorbar\":{\"outlinewidth\":0,\"ticks\":\"\"}}}],\"scatterpolargl\":[{\"type\":\"scatterpolargl\",\"marker\":{\"colorbar\":{\"outlinewidth\":0,\"ticks\":\"\"}}}],\"bar\":[{\"error_x\":{\"color\":\"#2a3f5f\"},\"error_y\":{\"color\":\"#2a3f5f\"},\"marker\":{\"line\":{\"color\":\"#E5ECF6\",\"width\":0.5},\"pattern\":{\"fillmode\":\"overlay\",\"size\":10,\"solidity\":0.2}},\"type\":\"bar\"}],\"scattergeo\":[{\"type\":\"scattergeo\",\"marker\":{\"colorbar\":{\"outlinewidth\":0,\"ticks\":\"\"}}}],\"scatterpolar\":[{\"type\":\"scatterpolar\",\"marker\":{\"colorbar\":{\"outlinewidth\":0,\"ticks\":\"\"}}}],\"histogram\":[{\"marker\":{\"pattern\":{\"fillmode\":\"overlay\",\"size\":10,\"solidity\":0.2}},\"type\":\"histogram\"}],\"scattergl\":[{\"type\":\"scattergl\",\"marker\":{\"colorbar\":{\"outlinewidth\":0,\"ticks\":\"\"}}}],\"scatter3d\":[{\"type\":\"scatter3d\",\"line\":{\"colorbar\":{\"outlinewidth\":0,\"ticks\":\"\"}},\"marker\":{\"colorbar\":{\"outlinewidth\":0,\"ticks\":\"\"}}}],\"scattermapbox\":[{\"type\":\"scattermapbox\",\"marker\":{\"colorbar\":{\"outlinewidth\":0,\"ticks\":\"\"}}}],\"scatterternary\":[{\"type\":\"scatterternary\",\"marker\":{\"colorbar\":{\"outlinewidth\":0,\"ticks\":\"\"}}}],\"scattercarpet\":[{\"type\":\"scattercarpet\",\"marker\":{\"colorbar\":{\"outlinewidth\":0,\"ticks\":\"\"}}}],\"carpet\":[{\"aaxis\":{\"endlinecolor\":\"#2a3f5f\",\"gridcolor\":\"white\",\"linecolor\":\"white\",\"minorgridcolor\":\"white\",\"startlinecolor\":\"#2a3f5f\"},\"baxis\":{\"endlinecolor\":\"#2a3f5f\",\"gridcolor\":\"white\",\"linecolor\":\"white\",\"minorgridcolor\":\"white\",\"startlinecolor\":\"#2a3f5f\"},\"type\":\"carpet\"}],\"table\":[{\"cells\":{\"fill\":{\"color\":\"#EBF0F8\"},\"line\":{\"color\":\"white\"}},\"header\":{\"fill\":{\"color\":\"#C8D4E3\"},\"line\":{\"color\":\"white\"}},\"type\":\"table\"}],\"barpolar\":[{\"marker\":{\"line\":{\"color\":\"#E5ECF6\",\"width\":0.5},\"pattern\":{\"fillmode\":\"overlay\",\"size\":10,\"solidity\":0.2}},\"type\":\"barpolar\"}],\"pie\":[{\"automargin\":true,\"type\":\"pie\"}]},\"layout\":{\"autotypenumbers\":\"strict\",\"colorway\":[\"#636efa\",\"#EF553B\",\"#00cc96\",\"#ab63fa\",\"#FFA15A\",\"#19d3f3\",\"#FF6692\",\"#B6E880\",\"#FF97FF\",\"#FECB52\"],\"font\":{\"color\":\"#2a3f5f\"},\"hovermode\":\"closest\",\"hoverlabel\":{\"align\":\"left\"},\"paper_bgcolor\":\"white\",\"plot_bgcolor\":\"#E5ECF6\",\"polar\":{\"bgcolor\":\"#E5ECF6\",\"angularaxis\":{\"gridcolor\":\"white\",\"linecolor\":\"white\",\"ticks\":\"\"},\"radialaxis\":{\"gridcolor\":\"white\",\"linecolor\":\"white\",\"ticks\":\"\"}},\"ternary\":{\"bgcolor\":\"#E5ECF6\",\"aaxis\":{\"gridcolor\":\"white\",\"linecolor\":\"white\",\"ticks\":\"\"},\"baxis\":{\"gridcolor\":\"white\",\"linecolor\":\"white\",\"ticks\":\"\"},\"caxis\":{\"gridcolor\":\"white\",\"linecolor\":\"white\",\"ticks\":\"\"}},\"coloraxis\":{\"colorbar\":{\"outlinewidth\":0,\"ticks\":\"\"}},\"colorscale\":{\"sequential\":[[0.0,\"#0d0887\"],[0.1111111111111111,\"#46039f\"],[0.2222222222222222,\"#7201a8\"],[0.3333333333333333,\"#9c179e\"],[0.4444444444444444,\"#bd3786\"],[0.5555555555555556,\"#d8576b\"],[0.6666666666666666,\"#ed7953\"],[0.7777777777777778,\"#fb9f3a\"],[0.8888888888888888,\"#fdca26\"],[1.0,\"#f0f921\"]],\"sequentialminus\":[[0.0,\"#0d0887\"],[0.1111111111111111,\"#46039f\"],[0.2222222222222222,\"#7201a8\"],[0.3333333333333333,\"#9c179e\"],[0.4444444444444444,\"#bd3786\"],[0.5555555555555556,\"#d8576b\"],[0.6666666666666666,\"#ed7953\"],[0.7777777777777778,\"#fb9f3a\"],[0.8888888888888888,\"#fdca26\"],[1.0,\"#f0f921\"]],\"diverging\":[[0,\"#8e0152\"],[0.1,\"#c51b7d\"],[0.2,\"#de77ae\"],[0.3,\"#f1b6da\"],[0.4,\"#fde0ef\"],[0.5,\"#f7f7f7\"],[0.6,\"#e6f5d0\"],[0.7,\"#b8e186\"],[0.8,\"#7fbc41\"],[0.9,\"#4d9221\"],[1,\"#276419\"]]},\"xaxis\":{\"gridcolor\":\"white\",\"linecolor\":\"white\",\"ticks\":\"\",\"title\":{\"standoff\":15},\"zerolinecolor\":\"white\",\"automargin\":true,\"zerolinewidth\":2},\"yaxis\":{\"gridcolor\":\"white\",\"linecolor\":\"white\",\"ticks\":\"\",\"title\":{\"standoff\":15},\"zerolinecolor\":\"white\",\"automargin\":true,\"zerolinewidth\":2},\"scene\":{\"xaxis\":{\"backgroundcolor\":\"#E5ECF6\",\"gridcolor\":\"white\",\"linecolor\":\"white\",\"showbackground\":true,\"ticks\":\"\",\"zerolinecolor\":\"white\",\"gridwidth\":2},\"yaxis\":{\"backgroundcolor\":\"#E5ECF6\",\"gridcolor\":\"white\",\"linecolor\":\"white\",\"showbackground\":true,\"ticks\":\"\",\"zerolinecolor\":\"white\",\"gridwidth\":2},\"zaxis\":{\"backgroundcolor\":\"#E5ECF6\",\"gridcolor\":\"white\",\"linecolor\":\"white\",\"showbackground\":true,\"ticks\":\"\",\"zerolinecolor\":\"white\",\"gridwidth\":2}},\"shapedefaults\":{\"line\":{\"color\":\"#2a3f5f\"}},\"annotationdefaults\":{\"arrowcolor\":\"#2a3f5f\",\"arrowhead\":0,\"arrowwidth\":1},\"geo\":{\"bgcolor\":\"white\",\"landcolor\":\"#E5ECF6\",\"subunitcolor\":\"white\",\"showland\":true,\"showlakes\":true,\"lakecolor\":\"white\"},\"title\":{\"x\":0.05},\"mapbox\":{\"style\":\"light\"}}},\"xaxis\":{\"anchor\":\"y\",\"domain\":[0.0,1.0],\"title\":{\"text\":\"x\"}},\"yaxis\":{\"anchor\":\"x\",\"domain\":[0.0,1.0],\"title\":{\"text\":\"PDF\"}},\"legend\":{\"tracegroupgap\":0},\"title\":{\"text\":\"DJI Negative Days Normal Distribution\"}},                        {\"responsive\": true}                    ).then(function(){\n",
              "                            \n",
              "var gd = document.getElementById('eddb0511-152c-4cf0-8b58-adc7705824db');\n",
              "var x = new MutationObserver(function (mutations, observer) {{\n",
              "        var display = window.getComputedStyle(gd).display;\n",
              "        if (!display || display === 'none') {{\n",
              "            console.log([gd, 'removed!']);\n",
              "            Plotly.purge(gd);\n",
              "            observer.disconnect();\n",
              "        }}\n",
              "}});\n",
              "\n",
              "// Listen for the removal of the full notebook cells\n",
              "var notebookContainer = gd.closest('#notebook-container');\n",
              "if (notebookContainer) {{\n",
              "    x.observe(notebookContainer, {childList: true});\n",
              "}}\n",
              "\n",
              "// Listen for the clearing of the current output cell\n",
              "var outputEl = gd.closest('.output');\n",
              "if (outputEl) {{\n",
              "    x.observe(outputEl, {childList: true});\n",
              "}}\n",
              "\n",
              "                        })                };                            </script>        </div>\n",
              "</body>\n",
              "</html>"
            ]
          },
          "metadata": {}
        }
      ]
    },
    {
      "cell_type": "code",
      "source": [
        "import plotly.graph_objects as go\n",
        "\n",
        "def add_cursor_lines(fig):\n",
        "    # Add vertical and horizontal lines as shapes\n",
        "    cursor_line_x = go.layout.Shape(\n",
        "        type=\"line\",\n",
        "        x0=x[0], x1=x[0],\n",
        "        y0=min(y), y1=max(y),\n",
        "        line=dict(color=\"red\", width=1),\n",
        "        xref=\"x\",\n",
        "        yref=\"y\"\n",
        "    )\n",
        "\n",
        "    cursor_line_y = go.layout.Shape(\n",
        "        type=\"line\",\n",
        "        x0=min(x), x1=max(x),\n",
        "        y0=y[0], y1=y[0],\n",
        "        line=dict(color=\"red\", width=1),\n",
        "        xref=\"x\",\n",
        "        yref=\"y\"\n",
        "    )\n",
        "\n",
        "    fig.update_layout(shapes=[cursor_line_x, cursor_line_y])\n",
        "\n",
        "    # Define a JavaScript callback function to update cursor lines\n",
        "    callback_code = \"\"\"\n",
        "    function updateCursorLines(eventData) {\n",
        "        // Get the x and y coordinates of the cursor\n",
        "        var x = eventData.xvals[0];\n",
        "        var y = eventData.yvals[0];\n",
        "\n",
        "        // Update the position of the cursor lines\n",
        "        cursor_line_x.x0 = x;\n",
        "        cursor_line_x.x1 = x;\n",
        "\n",
        "        cursor_line_y.y0 = y;\n",
        "        cursor_line_y.y1 = y;\n",
        "\n",
        "        // Update the layout with the new cursor lines\n",
        "        Plotly.update('plot', {shapes: [cursor_line_x, cursor_line_y]});\n",
        "    }\n",
        "\n",
        "    // Register the callback function to update cursor lines\n",
        "    document.getElementById('plot').on('plotly_hover', updateCursorLines);\n",
        "    \"\"\"\n",
        "\n",
        "    # Add the JavaScript code to the figure\n",
        "    fig.add_trace(go.Scatter(x=[None], y=[None]))  # Dummy trace for JavaScript code\n",
        "    fig.update_layout(updatemenu=[dict(type='buttons', showactive=False, buttons=[dict(label='Save as PNG', method='downloadImage', args=[{\"format\": \"png\"}]),])])\n",
        "    # Add an ID to the plot div to attach the JavaScript code\n",
        "    fig.update_layout(id='plot')\n",
        "\n",
        "    return fig, callback_code\n"
      ],
      "metadata": {
        "id": "HEjy9mDEgOtm"
      },
      "execution_count": null,
      "outputs": []
    },
    {
      "cell_type": "code",
      "source": [
        "# Create a range of values for x-axis based on df_ndx_positive\n",
        "x_gspc_positive = np.linspace(df_gspc_positive['Abs_Percent_Change'].min(), df_gspc_positive['Abs_Percent_Change'].max(), len(df_gspc_positive))\n",
        "\n",
        "# Calculate the probability density functions (PDFs) for positive days\n",
        "pdfs_positive_gspc = stats.norm.pdf(x_gspc_positive, loc=df_gspc_positive['Abs_Percent_Change'].mean(), scale=df_gspc_positive['Abs_Percent_Change'].std())\n",
        "\n",
        "# Create a range of values for x-axis based on df_ndx_negative\n",
        "x_gspc_negative = np.linspace(df_gspc_negative['Abs_Percent_Change'].min(), df_gspc_negative['Abs_Percent_Change'].max(), len(df_gspc_positive))\n",
        "\n",
        "# Calculate the probability density functions (PDFs) for negative days\n",
        "pdfs_negative_gspc = stats.norm.pdf(x_gspc_negative, loc=df_gspc_negative['Abs_Percent_Change'].mean(), scale=df_gspc_negative['Abs_Percent_Change'].std())\n",
        "1\n",
        "# Create interactive plots using Plotly for NDX\n",
        "fig_gspc_positive = px.line(x=x_gspc_positive, y=pdfs_positive_gspc, title=\"GSPC Positive Days Normal Distribution\")\n",
        "fig_gspc_positive.update_xaxes(title=\"x\")\n",
        "fig_gspc_positive.update_yaxes(title=\"PDF\")\n",
        "\n",
        "fig_gspc_negative = px.line(x=x_gspc_negative, y=pdfs_negative_gspc, title=\"GSPC Negative Days Normal Distribution\")\n",
        "fig_gspc_negative.update_xaxes(title=\"x\")\n",
        "fig_gspc_negative.update_yaxes(title=\"PDF\")\n",
        "\n",
        "# Show the interactive plots for NDX\n",
        "fig_gspc_positive.show()\n",
        "fig_gspc_negative.show()"
      ],
      "metadata": {
        "id": "_xks0EY1cOnx",
        "colab": {
          "base_uri": "https://localhost:8080/",
          "height": 1000
        },
        "outputId": "e46e8a1d-892c-4fd4-9c28-f59f98bc67bf"
      },
      "execution_count": null,
      "outputs": [
        {
          "output_type": "display_data",
          "data": {
            "text/html": [
              "<html>\n",
              "<head><meta charset=\"utf-8\" /></head>\n",
              "<body>\n",
              "    <div>            <script src=\"https://cdnjs.cloudflare.com/ajax/libs/mathjax/2.7.5/MathJax.js?config=TeX-AMS-MML_SVG\"></script><script type=\"text/javascript\">if (window.MathJax && window.MathJax.Hub && window.MathJax.Hub.Config) {window.MathJax.Hub.Config({SVG: {font: \"STIX-Web\"}});}</script>                <script type=\"text/javascript\">window.PlotlyConfig = {MathJaxConfig: 'local'};</script>\n",
              "        <script charset=\"utf-8\" src=\"https://cdn.plot.ly/plotly-2.24.1.min.js\"></script>                <div id=\"83c31b18-b368-4bc5-bc74-90bf6896046e\" class=\"plotly-graph-div\" style=\"height:525px; width:100%;\"></div>            <script type=\"text/javascript\">                                    window.PLOTLYENV=window.PLOTLYENV || {};                                    if (document.getElementById(\"83c31b18-b368-4bc5-bc74-90bf6896046e\")) {                    Plotly.newPlot(                        \"83c31b18-b368-4bc5-bc74-90bf6896046e\",                        [{\"hovertemplate\":\"x=%{x}\\u003cbr\\u003ey=%{y}\\u003cextra\\u003e\\u003c\\u002fextra\\u003e\",\"legendgroup\":\"\",\"line\":{\"color\":\"#636efa\",\"dash\":\"solid\"},\"marker\":{\"symbol\":\"circle\"},\"mode\":\"lines\",\"name\":\"\",\"orientation\":\"v\",\"showlegend\":false,\"x\":[0.0,0.010588323782982644,0.02117664756596529,0.03176497134894793,0.04235329513193058,0.052941618914913224,0.06352994269789586,0.0741182664808785,0.08470659026386115,0.0952949140468438,0.10588323782982645,0.11647156161280908,0.12705988539579172,0.13764820917877438,0.148236532961757,0.15882485674473967,0.1694131805277223,0.18000150431070494,0.1905898280936876,0.20117815187667024,0.2117664756596529,0.22235479944263553,0.23294312322561816,0.24353144700860083,0.25411977079158343,0.2647080945745661,0.27529641835754876,0.2858847421405314,0.296473065923514,0.30706138970649666,0.31764971348947935,0.328238037272462,0.3388263610554446,0.34941468483842725,0.3600030086214099,0.37059133240439257,0.3811796561873752,0.39176797997035784,0.40235630375334047,0.4129446275363231,0.4235329513193058,0.43412127510228843,0.44470959888527106,0.4552979226682537,0.46588624645123633,0.47647457023421896,0.48706289401720165,0.4976512178001843,0.5082395415831669,0.5188278653661496,0.5294161891491322,0.5400045129321148,0.5505928367150975,0.5611811604980801,0.5717694842810628,0.5823578080640455,0.592946131847028,0.6035344556300107,0.6141227794129933,0.624711103195976,0.6352994269789587,0.6458877507619413,0.656476074544924,0.6670643983279065,0.6776527221108892,0.6882410458938719,0.6988293696768545,0.7094176934598372,0.7200060172428198,0.7305943410258025,0.7411826648087851,0.7517709885917677,0.7623593123747504,0.772947636157733,0.7835359599407157,0.7941242837236984,0.8047126075066809,0.8153009312896636,0.8258892550726462,0.8364775788556289,0.8470659026386116,0.8576542264215942,0.8682425502045769,0.8788308739875594,0.8894191977705421,0.9000075215535247,0.9105958453365074,0.9211841691194901,0.9317724929024727,0.9423608166854553,0.9529491404684379,0.9635374642514206,0.9741257880344033,0.9847141118173859,0.9953024356003686,1.0058907593833513],\"xaxis\":\"x\",\"y\":[0.9525799772641759,0.9956885232155833,1.0387855450699202,1.0817045036953685,1.124272847039793,1.1663130893390636,1.2076439812272,1.2480817608406534,1.2874414745414249,1.3255383545357917,1.3621892394647122,1.3972140230143013,1.4304371147633943,1.4616888968704231,1.4908071598203876,1.5176385003173591,1.5420396645271068,1.563878820251866,1.5830367422538658,1.5994078958300546,1.6129014048666275,1.6234418919528966,1.6309701796896845,1.6354438440635692,1.636837612647139,1.6351436023959398,1.630371393911567,1.6225479411920647,1.6117173180591118,1.5979403045996055,1.581293819050985,1.5618702025597402,1.539776366117845,1.5151328107016209,1.4880725331742477,1.4587398318430278,1.4272890266659057,1.3938831099635196,1.358692344102834,1.3218928229706677,1.2836650141495893,1.2441922985489233,1.2036595238388383,1.1622515873988402,1.1201520636405635,1.0775418895191853,1.0345981208316035,0.9914927705387034,0.9483917388713052,0.9054538434136629,0.8628299557340485,0.8206622494783714,0.779083563188581,0.738216879480219,0.6981749206385504,0.6590598591938284,0.620963140634282,0.583965414128599,0.5481365659730293,0.5135358494636084,0.48021210403011655,0.4482040557604531,0.41754069089449825,0.3882416934742721,0.36031793809876494,0.33377202864095784,0.3085988738328001,0.2847862908008845,0.26231562792921054,0.24116239882247384,0.22129691962963866,0.2026849425483557,0.1852882789512236,0.1690654062400688,0.15397205322991733,0.13996175957636678,0.12698640547565396,0.11499670857399588,0.10394268571104426,0.09377407778209912,0.08444073662707699,0.07589297343442891,0.06808186868004495,0.06095954410076088,0.05447939762684186,0.04859630256643701,0.043266772647259144,0.0384490947775027,0.03410343159097627,0.030191895993121505,0.026678600028145965,0.02352968044658061,0.02071330337122339,0.01819965044193896,0.01596088877061203,0.01397112696118095],\"yaxis\":\"y\",\"type\":\"scatter\"}],                        {\"template\":{\"data\":{\"histogram2dcontour\":[{\"type\":\"histogram2dcontour\",\"colorbar\":{\"outlinewidth\":0,\"ticks\":\"\"},\"colorscale\":[[0.0,\"#0d0887\"],[0.1111111111111111,\"#46039f\"],[0.2222222222222222,\"#7201a8\"],[0.3333333333333333,\"#9c179e\"],[0.4444444444444444,\"#bd3786\"],[0.5555555555555556,\"#d8576b\"],[0.6666666666666666,\"#ed7953\"],[0.7777777777777778,\"#fb9f3a\"],[0.8888888888888888,\"#fdca26\"],[1.0,\"#f0f921\"]]}],\"choropleth\":[{\"type\":\"choropleth\",\"colorbar\":{\"outlinewidth\":0,\"ticks\":\"\"}}],\"histogram2d\":[{\"type\":\"histogram2d\",\"colorbar\":{\"outlinewidth\":0,\"ticks\":\"\"},\"colorscale\":[[0.0,\"#0d0887\"],[0.1111111111111111,\"#46039f\"],[0.2222222222222222,\"#7201a8\"],[0.3333333333333333,\"#9c179e\"],[0.4444444444444444,\"#bd3786\"],[0.5555555555555556,\"#d8576b\"],[0.6666666666666666,\"#ed7953\"],[0.7777777777777778,\"#fb9f3a\"],[0.8888888888888888,\"#fdca26\"],[1.0,\"#f0f921\"]]}],\"heatmap\":[{\"type\":\"heatmap\",\"colorbar\":{\"outlinewidth\":0,\"ticks\":\"\"},\"colorscale\":[[0.0,\"#0d0887\"],[0.1111111111111111,\"#46039f\"],[0.2222222222222222,\"#7201a8\"],[0.3333333333333333,\"#9c179e\"],[0.4444444444444444,\"#bd3786\"],[0.5555555555555556,\"#d8576b\"],[0.6666666666666666,\"#ed7953\"],[0.7777777777777778,\"#fb9f3a\"],[0.8888888888888888,\"#fdca26\"],[1.0,\"#f0f921\"]]}],\"heatmapgl\":[{\"type\":\"heatmapgl\",\"colorbar\":{\"outlinewidth\":0,\"ticks\":\"\"},\"colorscale\":[[0.0,\"#0d0887\"],[0.1111111111111111,\"#46039f\"],[0.2222222222222222,\"#7201a8\"],[0.3333333333333333,\"#9c179e\"],[0.4444444444444444,\"#bd3786\"],[0.5555555555555556,\"#d8576b\"],[0.6666666666666666,\"#ed7953\"],[0.7777777777777778,\"#fb9f3a\"],[0.8888888888888888,\"#fdca26\"],[1.0,\"#f0f921\"]]}],\"contourcarpet\":[{\"type\":\"contourcarpet\",\"colorbar\":{\"outlinewidth\":0,\"ticks\":\"\"}}],\"contour\":[{\"type\":\"contour\",\"colorbar\":{\"outlinewidth\":0,\"ticks\":\"\"},\"colorscale\":[[0.0,\"#0d0887\"],[0.1111111111111111,\"#46039f\"],[0.2222222222222222,\"#7201a8\"],[0.3333333333333333,\"#9c179e\"],[0.4444444444444444,\"#bd3786\"],[0.5555555555555556,\"#d8576b\"],[0.6666666666666666,\"#ed7953\"],[0.7777777777777778,\"#fb9f3a\"],[0.8888888888888888,\"#fdca26\"],[1.0,\"#f0f921\"]]}],\"surface\":[{\"type\":\"surface\",\"colorbar\":{\"outlinewidth\":0,\"ticks\":\"\"},\"colorscale\":[[0.0,\"#0d0887\"],[0.1111111111111111,\"#46039f\"],[0.2222222222222222,\"#7201a8\"],[0.3333333333333333,\"#9c179e\"],[0.4444444444444444,\"#bd3786\"],[0.5555555555555556,\"#d8576b\"],[0.6666666666666666,\"#ed7953\"],[0.7777777777777778,\"#fb9f3a\"],[0.8888888888888888,\"#fdca26\"],[1.0,\"#f0f921\"]]}],\"mesh3d\":[{\"type\":\"mesh3d\",\"colorbar\":{\"outlinewidth\":0,\"ticks\":\"\"}}],\"scatter\":[{\"fillpattern\":{\"fillmode\":\"overlay\",\"size\":10,\"solidity\":0.2},\"type\":\"scatter\"}],\"parcoords\":[{\"type\":\"parcoords\",\"line\":{\"colorbar\":{\"outlinewidth\":0,\"ticks\":\"\"}}}],\"scatterpolargl\":[{\"type\":\"scatterpolargl\",\"marker\":{\"colorbar\":{\"outlinewidth\":0,\"ticks\":\"\"}}}],\"bar\":[{\"error_x\":{\"color\":\"#2a3f5f\"},\"error_y\":{\"color\":\"#2a3f5f\"},\"marker\":{\"line\":{\"color\":\"#E5ECF6\",\"width\":0.5},\"pattern\":{\"fillmode\":\"overlay\",\"size\":10,\"solidity\":0.2}},\"type\":\"bar\"}],\"scattergeo\":[{\"type\":\"scattergeo\",\"marker\":{\"colorbar\":{\"outlinewidth\":0,\"ticks\":\"\"}}}],\"scatterpolar\":[{\"type\":\"scatterpolar\",\"marker\":{\"colorbar\":{\"outlinewidth\":0,\"ticks\":\"\"}}}],\"histogram\":[{\"marker\":{\"pattern\":{\"fillmode\":\"overlay\",\"size\":10,\"solidity\":0.2}},\"type\":\"histogram\"}],\"scattergl\":[{\"type\":\"scattergl\",\"marker\":{\"colorbar\":{\"outlinewidth\":0,\"ticks\":\"\"}}}],\"scatter3d\":[{\"type\":\"scatter3d\",\"line\":{\"colorbar\":{\"outlinewidth\":0,\"ticks\":\"\"}},\"marker\":{\"colorbar\":{\"outlinewidth\":0,\"ticks\":\"\"}}}],\"scattermapbox\":[{\"type\":\"scattermapbox\",\"marker\":{\"colorbar\":{\"outlinewidth\":0,\"ticks\":\"\"}}}],\"scatterternary\":[{\"type\":\"scatterternary\",\"marker\":{\"colorbar\":{\"outlinewidth\":0,\"ticks\":\"\"}}}],\"scattercarpet\":[{\"type\":\"scattercarpet\",\"marker\":{\"colorbar\":{\"outlinewidth\":0,\"ticks\":\"\"}}}],\"carpet\":[{\"aaxis\":{\"endlinecolor\":\"#2a3f5f\",\"gridcolor\":\"white\",\"linecolor\":\"white\",\"minorgridcolor\":\"white\",\"startlinecolor\":\"#2a3f5f\"},\"baxis\":{\"endlinecolor\":\"#2a3f5f\",\"gridcolor\":\"white\",\"linecolor\":\"white\",\"minorgridcolor\":\"white\",\"startlinecolor\":\"#2a3f5f\"},\"type\":\"carpet\"}],\"table\":[{\"cells\":{\"fill\":{\"color\":\"#EBF0F8\"},\"line\":{\"color\":\"white\"}},\"header\":{\"fill\":{\"color\":\"#C8D4E3\"},\"line\":{\"color\":\"white\"}},\"type\":\"table\"}],\"barpolar\":[{\"marker\":{\"line\":{\"color\":\"#E5ECF6\",\"width\":0.5},\"pattern\":{\"fillmode\":\"overlay\",\"size\":10,\"solidity\":0.2}},\"type\":\"barpolar\"}],\"pie\":[{\"automargin\":true,\"type\":\"pie\"}]},\"layout\":{\"autotypenumbers\":\"strict\",\"colorway\":[\"#636efa\",\"#EF553B\",\"#00cc96\",\"#ab63fa\",\"#FFA15A\",\"#19d3f3\",\"#FF6692\",\"#B6E880\",\"#FF97FF\",\"#FECB52\"],\"font\":{\"color\":\"#2a3f5f\"},\"hovermode\":\"closest\",\"hoverlabel\":{\"align\":\"left\"},\"paper_bgcolor\":\"white\",\"plot_bgcolor\":\"#E5ECF6\",\"polar\":{\"bgcolor\":\"#E5ECF6\",\"angularaxis\":{\"gridcolor\":\"white\",\"linecolor\":\"white\",\"ticks\":\"\"},\"radialaxis\":{\"gridcolor\":\"white\",\"linecolor\":\"white\",\"ticks\":\"\"}},\"ternary\":{\"bgcolor\":\"#E5ECF6\",\"aaxis\":{\"gridcolor\":\"white\",\"linecolor\":\"white\",\"ticks\":\"\"},\"baxis\":{\"gridcolor\":\"white\",\"linecolor\":\"white\",\"ticks\":\"\"},\"caxis\":{\"gridcolor\":\"white\",\"linecolor\":\"white\",\"ticks\":\"\"}},\"coloraxis\":{\"colorbar\":{\"outlinewidth\":0,\"ticks\":\"\"}},\"colorscale\":{\"sequential\":[[0.0,\"#0d0887\"],[0.1111111111111111,\"#46039f\"],[0.2222222222222222,\"#7201a8\"],[0.3333333333333333,\"#9c179e\"],[0.4444444444444444,\"#bd3786\"],[0.5555555555555556,\"#d8576b\"],[0.6666666666666666,\"#ed7953\"],[0.7777777777777778,\"#fb9f3a\"],[0.8888888888888888,\"#fdca26\"],[1.0,\"#f0f921\"]],\"sequentialminus\":[[0.0,\"#0d0887\"],[0.1111111111111111,\"#46039f\"],[0.2222222222222222,\"#7201a8\"],[0.3333333333333333,\"#9c179e\"],[0.4444444444444444,\"#bd3786\"],[0.5555555555555556,\"#d8576b\"],[0.6666666666666666,\"#ed7953\"],[0.7777777777777778,\"#fb9f3a\"],[0.8888888888888888,\"#fdca26\"],[1.0,\"#f0f921\"]],\"diverging\":[[0,\"#8e0152\"],[0.1,\"#c51b7d\"],[0.2,\"#de77ae\"],[0.3,\"#f1b6da\"],[0.4,\"#fde0ef\"],[0.5,\"#f7f7f7\"],[0.6,\"#e6f5d0\"],[0.7,\"#b8e186\"],[0.8,\"#7fbc41\"],[0.9,\"#4d9221\"],[1,\"#276419\"]]},\"xaxis\":{\"gridcolor\":\"white\",\"linecolor\":\"white\",\"ticks\":\"\",\"title\":{\"standoff\":15},\"zerolinecolor\":\"white\",\"automargin\":true,\"zerolinewidth\":2},\"yaxis\":{\"gridcolor\":\"white\",\"linecolor\":\"white\",\"ticks\":\"\",\"title\":{\"standoff\":15},\"zerolinecolor\":\"white\",\"automargin\":true,\"zerolinewidth\":2},\"scene\":{\"xaxis\":{\"backgroundcolor\":\"#E5ECF6\",\"gridcolor\":\"white\",\"linecolor\":\"white\",\"showbackground\":true,\"ticks\":\"\",\"zerolinecolor\":\"white\",\"gridwidth\":2},\"yaxis\":{\"backgroundcolor\":\"#E5ECF6\",\"gridcolor\":\"white\",\"linecolor\":\"white\",\"showbackground\":true,\"ticks\":\"\",\"zerolinecolor\":\"white\",\"gridwidth\":2},\"zaxis\":{\"backgroundcolor\":\"#E5ECF6\",\"gridcolor\":\"white\",\"linecolor\":\"white\",\"showbackground\":true,\"ticks\":\"\",\"zerolinecolor\":\"white\",\"gridwidth\":2}},\"shapedefaults\":{\"line\":{\"color\":\"#2a3f5f\"}},\"annotationdefaults\":{\"arrowcolor\":\"#2a3f5f\",\"arrowhead\":0,\"arrowwidth\":1},\"geo\":{\"bgcolor\":\"white\",\"landcolor\":\"#E5ECF6\",\"subunitcolor\":\"white\",\"showland\":true,\"showlakes\":true,\"lakecolor\":\"white\"},\"title\":{\"x\":0.05},\"mapbox\":{\"style\":\"light\"}}},\"xaxis\":{\"anchor\":\"y\",\"domain\":[0.0,1.0],\"title\":{\"text\":\"x\"}},\"yaxis\":{\"anchor\":\"x\",\"domain\":[0.0,1.0],\"title\":{\"text\":\"PDF\"}},\"legend\":{\"tracegroupgap\":0},\"title\":{\"text\":\"GSPC Positive Days Normal Distribution\"}},                        {\"responsive\": true}                    ).then(function(){\n",
              "                            \n",
              "var gd = document.getElementById('83c31b18-b368-4bc5-bc74-90bf6896046e');\n",
              "var x = new MutationObserver(function (mutations, observer) {{\n",
              "        var display = window.getComputedStyle(gd).display;\n",
              "        if (!display || display === 'none') {{\n",
              "            console.log([gd, 'removed!']);\n",
              "            Plotly.purge(gd);\n",
              "            observer.disconnect();\n",
              "        }}\n",
              "}});\n",
              "\n",
              "// Listen for the removal of the full notebook cells\n",
              "var notebookContainer = gd.closest('#notebook-container');\n",
              "if (notebookContainer) {{\n",
              "    x.observe(notebookContainer, {childList: true});\n",
              "}}\n",
              "\n",
              "// Listen for the clearing of the current output cell\n",
              "var outputEl = gd.closest('.output');\n",
              "if (outputEl) {{\n",
              "    x.observe(outputEl, {childList: true});\n",
              "}}\n",
              "\n",
              "                        })                };                            </script>        </div>\n",
              "</body>\n",
              "</html>"
            ]
          },
          "metadata": {}
        },
        {
          "output_type": "display_data",
          "data": {
            "text/html": [
              "<html>\n",
              "<head><meta charset=\"utf-8\" /></head>\n",
              "<body>\n",
              "    <div>            <script src=\"https://cdnjs.cloudflare.com/ajax/libs/mathjax/2.7.5/MathJax.js?config=TeX-AMS-MML_SVG\"></script><script type=\"text/javascript\">if (window.MathJax && window.MathJax.Hub && window.MathJax.Hub.Config) {window.MathJax.Hub.Config({SVG: {font: \"STIX-Web\"}});}</script>                <script type=\"text/javascript\">window.PlotlyConfig = {MathJaxConfig: 'local'};</script>\n",
              "        <script charset=\"utf-8\" src=\"https://cdn.plot.ly/plotly-2.24.1.min.js\"></script>                <div id=\"bd1a2dfa-7735-46ac-ba53-c327a3c45a1e\" class=\"plotly-graph-div\" style=\"height:525px; width:100%;\"></div>            <script type=\"text/javascript\">                                    window.PLOTLYENV=window.PLOTLYENV || {};                                    if (document.getElementById(\"bd1a2dfa-7735-46ac-ba53-c327a3c45a1e\")) {                    Plotly.newPlot(                        \"bd1a2dfa-7735-46ac-ba53-c327a3c45a1e\",                        [{\"hovertemplate\":\"x=%{x}\\u003cbr\\u003ey=%{y}\\u003cextra\\u003e\\u003c\\u002fextra\\u003e\",\"legendgroup\":\"\",\"line\":{\"color\":\"#636efa\",\"dash\":\"solid\"},\"marker\":{\"symbol\":\"circle\"},\"mode\":\"lines\",\"name\":\"\",\"orientation\":\"v\",\"showlegend\":false,\"x\":[0.0,0.0128813447897816,0.0257626895795632,0.0386440343693448,0.0515253791591264,0.064406723948908,0.0772880687386896,0.0901694135284712,0.1030507583182528,0.11593210310803441,0.128813447897816,0.1416947926875976,0.1545761374773792,0.1674574822671608,0.1803388270569424,0.19322017184672402,0.2061015166365056,0.2189828614262872,0.23186420621606882,0.2447455510058504,0.257626895795632,0.2705082405854136,0.2833895853751952,0.2962709301649768,0.3091522749547584,0.32203361974454003,0.3349149645343216,0.3477963093241032,0.3606776541138848,0.3735589989036664,0.38644034369344804,0.39932168848322963,0.4122030332730112,0.4250843780627928,0.4379657228525744,0.45084706764235605,0.46372841243213764,0.47660975722191923,0.4894911020117008,0.5023724468014824,0.515253791591264,0.5281351363810456,0.5410164811708272,0.5538978259606089,0.5667791707503904,0.5796605155401721,0.5925418603299536,0.6054232051197352,0.6183045499095168,0.6311858946992984,0.6440672394890801,0.6569485842788616,0.6698299290686432,0.6827112738584248,0.6955926186482064,0.7084739634379881,0.7213553082277696,0.7342366530175513,0.7471179978073328,0.7599993425971144,0.7728806873868961,0.7857620321766776,0.7986433769664593,0.8115247217562408,0.8244060665460224,0.8372874113358041,0.8501687561255856,0.8630501009153673,0.8759314457051488,0.8888127904949304,0.9016941352847121,0.9145754800744936,0.9274568248642753,0.9403381696540568,0.9532195144438385,0.9661008592336201,0.9789822040234016,0.9918635488131833,1.0047448936029648,1.0176262383927464,1.030507583182528,1.0433889279723096,1.0562702727620912,1.069151617551873,1.0820329623416545,1.094914307131436,1.1077956519212178,1.1206769967109993,1.1335583415007808,1.1464396862905624,1.1593210310803441,1.1722023758701257,1.1850837206599072,1.197965065449689,1.2108464102394705,1.223727755029252],\"xaxis\":\"x\",\"y\":[0.8484519360417997,0.8897274104562148,0.9309622704561661,0.9719693615107806,1.0125546088459152,1.0525184536312748,1.0916574121549982,1.1297657421761846,1.1666371983269175,1.2020668563490469,1.2358529841481483,1.2677989361740316,1.2977150465346023,1.3254204955514945,1.3507451241974662,1.3735311710340092,1.393634906900472,1.4109281436907588,1.4252995950779286,1.4366560689882992,1.4449234739530041,1.4500476241353089,1.4519948307973984,1.4507522711746652,1.4463281291070582,1.4387515052697861,1.428072098380925,1.4143596622715946,1.3977032471162631,1.378210236369735,1.3560051939806055,1.3312285391910539,1.3040350686390256,1.2745923475083452,1.2430789930909871,1.2096828753090862,1.1745992594775347,1.1380289168666224,1.1001762284533771,1.061247306644996,1.0214481587418656,0.9809829145132649,0.9400521385250455,0.8988512458307327,0.8575690373654149,0.8163863689188919,0.7754749649661294,0.7349963859549764,0.695101154948628,0.6559280468464742,0.6176035408119239,0.5802414340652254,0.5439426128940748,0.508794974629946,0.47487349246237104,0.44224041333916375,0.4109455778433399,0.38102684985624186,0.3525106430135956,0.3254125304334156,0.2997379239327077,0.2754828089397087,0.2526345215316221,0.23117255446250062,0.21106937966745362,0.1922912755110402,0.17479914796166124,0.15854933589168643,0.14349439179678058,0.1295838303702105,0.11676483853294135,0.10498294168408316,0.09418262207702247,0.08430788632514359,0.07530278008097767,0.06711184890030496,0.05968054518741608,0.05295558191152725,0.04688523448201735,0.04141959276906867,0.036510765756118294,0.03211304171302183,0.02818300708756579,0.024679627533036444,0.021564294627280756,0.018800841901362123,0.0163555337914553,0.014197031064389713,0.012296336153760256,0.010626721688252532,0.009163645305017953,0.007884653626448824,0.006769278045888417,0.005798924723410414,0.004956760942876788,0.004227599731376358],\"yaxis\":\"y\",\"type\":\"scatter\"}],                        {\"template\":{\"data\":{\"histogram2dcontour\":[{\"type\":\"histogram2dcontour\",\"colorbar\":{\"outlinewidth\":0,\"ticks\":\"\"},\"colorscale\":[[0.0,\"#0d0887\"],[0.1111111111111111,\"#46039f\"],[0.2222222222222222,\"#7201a8\"],[0.3333333333333333,\"#9c179e\"],[0.4444444444444444,\"#bd3786\"],[0.5555555555555556,\"#d8576b\"],[0.6666666666666666,\"#ed7953\"],[0.7777777777777778,\"#fb9f3a\"],[0.8888888888888888,\"#fdca26\"],[1.0,\"#f0f921\"]]}],\"choropleth\":[{\"type\":\"choropleth\",\"colorbar\":{\"outlinewidth\":0,\"ticks\":\"\"}}],\"histogram2d\":[{\"type\":\"histogram2d\",\"colorbar\":{\"outlinewidth\":0,\"ticks\":\"\"},\"colorscale\":[[0.0,\"#0d0887\"],[0.1111111111111111,\"#46039f\"],[0.2222222222222222,\"#7201a8\"],[0.3333333333333333,\"#9c179e\"],[0.4444444444444444,\"#bd3786\"],[0.5555555555555556,\"#d8576b\"],[0.6666666666666666,\"#ed7953\"],[0.7777777777777778,\"#fb9f3a\"],[0.8888888888888888,\"#fdca26\"],[1.0,\"#f0f921\"]]}],\"heatmap\":[{\"type\":\"heatmap\",\"colorbar\":{\"outlinewidth\":0,\"ticks\":\"\"},\"colorscale\":[[0.0,\"#0d0887\"],[0.1111111111111111,\"#46039f\"],[0.2222222222222222,\"#7201a8\"],[0.3333333333333333,\"#9c179e\"],[0.4444444444444444,\"#bd3786\"],[0.5555555555555556,\"#d8576b\"],[0.6666666666666666,\"#ed7953\"],[0.7777777777777778,\"#fb9f3a\"],[0.8888888888888888,\"#fdca26\"],[1.0,\"#f0f921\"]]}],\"heatmapgl\":[{\"type\":\"heatmapgl\",\"colorbar\":{\"outlinewidth\":0,\"ticks\":\"\"},\"colorscale\":[[0.0,\"#0d0887\"],[0.1111111111111111,\"#46039f\"],[0.2222222222222222,\"#7201a8\"],[0.3333333333333333,\"#9c179e\"],[0.4444444444444444,\"#bd3786\"],[0.5555555555555556,\"#d8576b\"],[0.6666666666666666,\"#ed7953\"],[0.7777777777777778,\"#fb9f3a\"],[0.8888888888888888,\"#fdca26\"],[1.0,\"#f0f921\"]]}],\"contourcarpet\":[{\"type\":\"contourcarpet\",\"colorbar\":{\"outlinewidth\":0,\"ticks\":\"\"}}],\"contour\":[{\"type\":\"contour\",\"colorbar\":{\"outlinewidth\":0,\"ticks\":\"\"},\"colorscale\":[[0.0,\"#0d0887\"],[0.1111111111111111,\"#46039f\"],[0.2222222222222222,\"#7201a8\"],[0.3333333333333333,\"#9c179e\"],[0.4444444444444444,\"#bd3786\"],[0.5555555555555556,\"#d8576b\"],[0.6666666666666666,\"#ed7953\"],[0.7777777777777778,\"#fb9f3a\"],[0.8888888888888888,\"#fdca26\"],[1.0,\"#f0f921\"]]}],\"surface\":[{\"type\":\"surface\",\"colorbar\":{\"outlinewidth\":0,\"ticks\":\"\"},\"colorscale\":[[0.0,\"#0d0887\"],[0.1111111111111111,\"#46039f\"],[0.2222222222222222,\"#7201a8\"],[0.3333333333333333,\"#9c179e\"],[0.4444444444444444,\"#bd3786\"],[0.5555555555555556,\"#d8576b\"],[0.6666666666666666,\"#ed7953\"],[0.7777777777777778,\"#fb9f3a\"],[0.8888888888888888,\"#fdca26\"],[1.0,\"#f0f921\"]]}],\"mesh3d\":[{\"type\":\"mesh3d\",\"colorbar\":{\"outlinewidth\":0,\"ticks\":\"\"}}],\"scatter\":[{\"fillpattern\":{\"fillmode\":\"overlay\",\"size\":10,\"solidity\":0.2},\"type\":\"scatter\"}],\"parcoords\":[{\"type\":\"parcoords\",\"line\":{\"colorbar\":{\"outlinewidth\":0,\"ticks\":\"\"}}}],\"scatterpolargl\":[{\"type\":\"scatterpolargl\",\"marker\":{\"colorbar\":{\"outlinewidth\":0,\"ticks\":\"\"}}}],\"bar\":[{\"error_x\":{\"color\":\"#2a3f5f\"},\"error_y\":{\"color\":\"#2a3f5f\"},\"marker\":{\"line\":{\"color\":\"#E5ECF6\",\"width\":0.5},\"pattern\":{\"fillmode\":\"overlay\",\"size\":10,\"solidity\":0.2}},\"type\":\"bar\"}],\"scattergeo\":[{\"type\":\"scattergeo\",\"marker\":{\"colorbar\":{\"outlinewidth\":0,\"ticks\":\"\"}}}],\"scatterpolar\":[{\"type\":\"scatterpolar\",\"marker\":{\"colorbar\":{\"outlinewidth\":0,\"ticks\":\"\"}}}],\"histogram\":[{\"marker\":{\"pattern\":{\"fillmode\":\"overlay\",\"size\":10,\"solidity\":0.2}},\"type\":\"histogram\"}],\"scattergl\":[{\"type\":\"scattergl\",\"marker\":{\"colorbar\":{\"outlinewidth\":0,\"ticks\":\"\"}}}],\"scatter3d\":[{\"type\":\"scatter3d\",\"line\":{\"colorbar\":{\"outlinewidth\":0,\"ticks\":\"\"}},\"marker\":{\"colorbar\":{\"outlinewidth\":0,\"ticks\":\"\"}}}],\"scattermapbox\":[{\"type\":\"scattermapbox\",\"marker\":{\"colorbar\":{\"outlinewidth\":0,\"ticks\":\"\"}}}],\"scatterternary\":[{\"type\":\"scatterternary\",\"marker\":{\"colorbar\":{\"outlinewidth\":0,\"ticks\":\"\"}}}],\"scattercarpet\":[{\"type\":\"scattercarpet\",\"marker\":{\"colorbar\":{\"outlinewidth\":0,\"ticks\":\"\"}}}],\"carpet\":[{\"aaxis\":{\"endlinecolor\":\"#2a3f5f\",\"gridcolor\":\"white\",\"linecolor\":\"white\",\"minorgridcolor\":\"white\",\"startlinecolor\":\"#2a3f5f\"},\"baxis\":{\"endlinecolor\":\"#2a3f5f\",\"gridcolor\":\"white\",\"linecolor\":\"white\",\"minorgridcolor\":\"white\",\"startlinecolor\":\"#2a3f5f\"},\"type\":\"carpet\"}],\"table\":[{\"cells\":{\"fill\":{\"color\":\"#EBF0F8\"},\"line\":{\"color\":\"white\"}},\"header\":{\"fill\":{\"color\":\"#C8D4E3\"},\"line\":{\"color\":\"white\"}},\"type\":\"table\"}],\"barpolar\":[{\"marker\":{\"line\":{\"color\":\"#E5ECF6\",\"width\":0.5},\"pattern\":{\"fillmode\":\"overlay\",\"size\":10,\"solidity\":0.2}},\"type\":\"barpolar\"}],\"pie\":[{\"automargin\":true,\"type\":\"pie\"}]},\"layout\":{\"autotypenumbers\":\"strict\",\"colorway\":[\"#636efa\",\"#EF553B\",\"#00cc96\",\"#ab63fa\",\"#FFA15A\",\"#19d3f3\",\"#FF6692\",\"#B6E880\",\"#FF97FF\",\"#FECB52\"],\"font\":{\"color\":\"#2a3f5f\"},\"hovermode\":\"closest\",\"hoverlabel\":{\"align\":\"left\"},\"paper_bgcolor\":\"white\",\"plot_bgcolor\":\"#E5ECF6\",\"polar\":{\"bgcolor\":\"#E5ECF6\",\"angularaxis\":{\"gridcolor\":\"white\",\"linecolor\":\"white\",\"ticks\":\"\"},\"radialaxis\":{\"gridcolor\":\"white\",\"linecolor\":\"white\",\"ticks\":\"\"}},\"ternary\":{\"bgcolor\":\"#E5ECF6\",\"aaxis\":{\"gridcolor\":\"white\",\"linecolor\":\"white\",\"ticks\":\"\"},\"baxis\":{\"gridcolor\":\"white\",\"linecolor\":\"white\",\"ticks\":\"\"},\"caxis\":{\"gridcolor\":\"white\",\"linecolor\":\"white\",\"ticks\":\"\"}},\"coloraxis\":{\"colorbar\":{\"outlinewidth\":0,\"ticks\":\"\"}},\"colorscale\":{\"sequential\":[[0.0,\"#0d0887\"],[0.1111111111111111,\"#46039f\"],[0.2222222222222222,\"#7201a8\"],[0.3333333333333333,\"#9c179e\"],[0.4444444444444444,\"#bd3786\"],[0.5555555555555556,\"#d8576b\"],[0.6666666666666666,\"#ed7953\"],[0.7777777777777778,\"#fb9f3a\"],[0.8888888888888888,\"#fdca26\"],[1.0,\"#f0f921\"]],\"sequentialminus\":[[0.0,\"#0d0887\"],[0.1111111111111111,\"#46039f\"],[0.2222222222222222,\"#7201a8\"],[0.3333333333333333,\"#9c179e\"],[0.4444444444444444,\"#bd3786\"],[0.5555555555555556,\"#d8576b\"],[0.6666666666666666,\"#ed7953\"],[0.7777777777777778,\"#fb9f3a\"],[0.8888888888888888,\"#fdca26\"],[1.0,\"#f0f921\"]],\"diverging\":[[0,\"#8e0152\"],[0.1,\"#c51b7d\"],[0.2,\"#de77ae\"],[0.3,\"#f1b6da\"],[0.4,\"#fde0ef\"],[0.5,\"#f7f7f7\"],[0.6,\"#e6f5d0\"],[0.7,\"#b8e186\"],[0.8,\"#7fbc41\"],[0.9,\"#4d9221\"],[1,\"#276419\"]]},\"xaxis\":{\"gridcolor\":\"white\",\"linecolor\":\"white\",\"ticks\":\"\",\"title\":{\"standoff\":15},\"zerolinecolor\":\"white\",\"automargin\":true,\"zerolinewidth\":2},\"yaxis\":{\"gridcolor\":\"white\",\"linecolor\":\"white\",\"ticks\":\"\",\"title\":{\"standoff\":15},\"zerolinecolor\":\"white\",\"automargin\":true,\"zerolinewidth\":2},\"scene\":{\"xaxis\":{\"backgroundcolor\":\"#E5ECF6\",\"gridcolor\":\"white\",\"linecolor\":\"white\",\"showbackground\":true,\"ticks\":\"\",\"zerolinecolor\":\"white\",\"gridwidth\":2},\"yaxis\":{\"backgroundcolor\":\"#E5ECF6\",\"gridcolor\":\"white\",\"linecolor\":\"white\",\"showbackground\":true,\"ticks\":\"\",\"zerolinecolor\":\"white\",\"gridwidth\":2},\"zaxis\":{\"backgroundcolor\":\"#E5ECF6\",\"gridcolor\":\"white\",\"linecolor\":\"white\",\"showbackground\":true,\"ticks\":\"\",\"zerolinecolor\":\"white\",\"gridwidth\":2}},\"shapedefaults\":{\"line\":{\"color\":\"#2a3f5f\"}},\"annotationdefaults\":{\"arrowcolor\":\"#2a3f5f\",\"arrowhead\":0,\"arrowwidth\":1},\"geo\":{\"bgcolor\":\"white\",\"landcolor\":\"#E5ECF6\",\"subunitcolor\":\"white\",\"showland\":true,\"showlakes\":true,\"lakecolor\":\"white\"},\"title\":{\"x\":0.05},\"mapbox\":{\"style\":\"light\"}}},\"xaxis\":{\"anchor\":\"y\",\"domain\":[0.0,1.0],\"title\":{\"text\":\"x\"}},\"yaxis\":{\"anchor\":\"x\",\"domain\":[0.0,1.0],\"title\":{\"text\":\"PDF\"}},\"legend\":{\"tracegroupgap\":0},\"title\":{\"text\":\"GSPC Negative Days Normal Distribution\"}},                        {\"responsive\": true}                    ).then(function(){\n",
              "                            \n",
              "var gd = document.getElementById('bd1a2dfa-7735-46ac-ba53-c327a3c45a1e');\n",
              "var x = new MutationObserver(function (mutations, observer) {{\n",
              "        var display = window.getComputedStyle(gd).display;\n",
              "        if (!display || display === 'none') {{\n",
              "            console.log([gd, 'removed!']);\n",
              "            Plotly.purge(gd);\n",
              "            observer.disconnect();\n",
              "        }}\n",
              "}});\n",
              "\n",
              "// Listen for the removal of the full notebook cells\n",
              "var notebookContainer = gd.closest('#notebook-container');\n",
              "if (notebookContainer) {{\n",
              "    x.observe(notebookContainer, {childList: true});\n",
              "}}\n",
              "\n",
              "// Listen for the clearing of the current output cell\n",
              "var outputEl = gd.closest('.output');\n",
              "if (outputEl) {{\n",
              "    x.observe(outputEl, {childList: true});\n",
              "}}\n",
              "\n",
              "                        })                };                            </script>        </div>\n",
              "</body>\n",
              "</html>"
            ]
          },
          "metadata": {}
        }
      ]
    },
    {
      "cell_type": "code",
      "source": [
        "# import numpy as np\n",
        "# import pandas as pd\n",
        "# import yfinance as yf\n",
        "# import scipy.stats as stats\n",
        "# import plotly.express as px\n",
        "\n",
        "# # Define the list of ticker symbols for the indices\n",
        "# ticker_symbols = [\"^NDX\", \"^DJI\", \"^GSPC\"]\n",
        "\n",
        "# # Define the date range for which you want to fetch data\n",
        "# start_date = \"2023-01-01\"\n",
        "# end_date = \"2023-09-18\"\n",
        "\n",
        "# # Fetch the OHLCV data for each index\n",
        "# df_ndx = yf.download(\"^NDX\", start=start_date, end=end_date)\n",
        "\n",
        "# # Calculate the absolute percentage change\n",
        "# def calculate_abs_percent_change(df):\n",
        "#     return ((df['Low'] - df['Open']) / df['Open']).abs() * 100\n",
        "\n",
        "# df_ndx['Abs_Percent_Change'] = calculate_abs_percent_change(df_ndx)\n",
        "\n",
        "# # Separate positive and negative days for NDX\n",
        "# df_ndx_positive = df_ndx[df_ndx['Close'] >= df_ndx['Open']]\n",
        "# df_ndx_negative = df_ndx[df_ndx['Open'] >= df_ndx['Close']]\n",
        "\n",
        "# # Create a range of values for x-axis based on df_ndx_positive\n",
        "# x_ndx_positive = np.linspace(df_ndx_positive['Abs_Percent_Change'].min(), df_ndx_positive['Abs_Percent_Change'].max(), len(df_ndx_positive))\n",
        "\n",
        "# # Calculate the probability density functions (PDFs) for positive days\n",
        "# pdfs_positive_ndx = stats.norm.pdf(x_ndx_positive, loc=df_ndx_positive['Abs_Percent_Change'].mean(), scale=df_ndx_positive['Abs_Percent_Change'].std())\n",
        "\n",
        "# # Create a range of values for x-axis based on df_ndx_negative\n",
        "# x_ndx_negative = np.linspace(df_ndx_negative['Abs_Percent_Change'].min(), df_ndx_negative['Abs_Percent_Change'].max(), len(df_ndx_positive))\n",
        "\n",
        "# # Calculate the probability density functions (PDFs) for negative days\n",
        "# pdfs_negative_ndx = stats.norm.pdf(x_ndx_negative, loc=df_ndx_negative['Abs_Percent_Change'].mean(), scale=df_ndx_negative['Abs_Percent_Change'].std())\n",
        "# 1\n",
        "# # Create interactive plots using Plotly for NDX\n",
        "# fig_ndx_positive = px.line(x=x_ndx_positive, y=pdfs_positive_ndx, title=\"NDX Positive Days Normal Distribution\")\n",
        "# fig_ndx_positive.update_xaxes(title=\"x\")\n",
        "# fig_ndx_positive.update_yaxes(title=\"PDF\")\n",
        "\n",
        "# fig_ndx_negative = px.line(x=x_ndx_negative, y=pdfs_negative_ndx, title=\"NDX Negative Days Normal Distribution\")\n",
        "# fig_ndx_negative.update_xaxes(title=\"x\")\n",
        "# fig_ndx_negative.update_yaxes(title=\"PDF\")\n",
        "\n",
        "# # Show the interactive plots for NDX\n",
        "# fig_ndx_positive.show()\n",
        "# fig_ndx_negative.show()\n"
      ],
      "metadata": {
        "id": "-wlOnX468mf7"
      },
      "execution_count": null,
      "outputs": []
    },
    {
      "cell_type": "code",
      "source": [
        "# Create a range of values for x-axis\n",
        "import plotly.express as px\n",
        "\n",
        "# x = np.linspace(-3, 3, 1000)\n",
        "\n",
        "# Calculate the probability density functions (PDFs) for each DataFrame\n",
        "pdfs_positive_ndx = stats.norm.pdf(np.linspace(df_ndx_positive.min(), df_ndx_positive.max(), 1000), loc=df_ndx_positive['Abs_Percent_Change'].mean(), scale=df_ndx_positive['Abs_Percent_Change'].std())\n",
        "pdfs_negative_ndx = stats.norm.pdf(np.linspace(df_ndx_negative.min(), df_ndx_negative.max(), 1000), loc=df_ndx_negative['Abs_Percent_Change'].mean(), scale=df_ndx_negative['Abs_Percent_Change'].std())\n",
        "\n",
        "\n",
        "pdfs_positive_dji = stats.norm.pdf(np.linspace(df_dji_positive.min(), df_dji_positive.max(), 1000), loc=df_dji_positive['Abs_Percent_Change'].mean(), scale=df_dji_positive['Abs_Percent_Change'].std())\n",
        "pdfs_negative_dji = stats.norm.pdf(np.linspace(df_dji_negative.min(), df_dji_negative.max(), 1000), loc=df_dji_negative['Abs_Percent_Change'].mean(), scale=df_dji_negative['Abs_Percent_Change'].std())\n",
        "\n",
        "pdfs_positive_gspc = stats.norm.pdf(np.linspace(df_gspc_positive.min(), df_gspc_positive.max(), 1000), loc=df_gspc_positive['Abs_Percent_Change'].mean(), scale=df_gspc_positive['Abs_Percent_Change'].std())\n",
        "pdfs_negative_gspc = stats.norm.pdf(np.linspace(df_gspc_negative.min(), df_gspc_negative.max(), 1000), loc=df_gspc_negative['Abs_Percent_Change'].mean(), scale=df_gspc_negative['Abs_Percent_Change'].std())\n",
        "\n",
        "# Create interactive plots using Plotly for NDX\n",
        "fig_ndx_positive = px.line(x=np.linspace(df_ndx_positive.min(), df_ndx_positive.max(), 1000), y=pdfs_positive_ndx, title=\"NDX Positive Days Normal Distribution\")\n",
        "fig_ndx_positive.update_xaxes(title=\"x\")\n",
        "fig_ndx_positive.update_yaxes(title=\"PDF\")\n",
        "\n",
        "fig_ndx_negative = px.line(x=np.linspace(df_ndx_negative.min(), df_ndx_negative.max(), 1000), y=pdfs_negative_ndx, title=\"NDX Negative Days Normal Distribution\")\n",
        "fig_ndx_negative.update_xaxes(title=\"x\")\n",
        "fig_ndx_negative.update_yaxes(title=\"PDF\")\n",
        "\n",
        "# Create interactive plots using Plotly for DJI\n",
        "fig_dji_positive = px.line(x=np.linspace(df_dji_positive.min(), df_dji_positive.max(), 1000), y=pdfs_positive_dji, title=\"DJI Positive Days Normal Distribution\")\n",
        "fig_dji_positive.update_xaxes(title=\"x\")\n",
        "fig_dji_positive.update_yaxes(title=\"PDF\")\n",
        "\n",
        "fig_dji_negative = px.line(x=np.linspace(df_dji_negative.min(), df_dji_negative.max(), 1000), y=pdfs_negative_dji, title=\"DJI Negative Days Normal Distribution\")\n",
        "fig_dji_negative.update_xaxes(title=\"x\")\n",
        "fig_dji_negative.update_yaxes(title=\"PDF\")\n",
        "\n",
        "# Create interactive plots using Plotly for GSPC\n",
        "fig_gspc_positive = px.line(x=np.linspace(df_gspc_positive.min(), df_gspc_positive.max(), 1000), y=pdfs_positive_gspc, title=\"GSPC Positive Days Normal Distribution\")\n",
        "fig_gspc_positive.update_xaxes(title=\"x\")\n",
        "fig_gspc_positive.update_yaxes(title=\"PDF\")\n",
        "\n",
        "fig_gspc_negative = px.line(x=np.linspace(df_gspc_negative.min(), df_gspc_negative.max(), 1000), y=pdfs_negative_gspc, title=\"GSPC Negative Days Normal Distribution\")\n",
        "fig_gspc_negative.update_xaxes(title=\"x\")\n",
        "fig_gspc_negative.update_yaxes(title=\"PDF\")\n",
        "\n",
        "# Show the interactive plots for NDX\n",
        "fig_ndx_positive.show()\n",
        "fig_ndx_negative.show()\n",
        "\n",
        "# Show the interactive plots for DJI\n",
        "fig_dji_positive.show()\n",
        "fig_dji_negative.show()\n",
        "\n",
        "# Show the interactive plots for GSPC\n",
        "fig_gspc_positive.show()\n",
        "fig_gspc_negative.show()\n"
      ],
      "metadata": {
        "colab": {
          "base_uri": "https://localhost:8080/",
          "height": 390
        },
        "id": "upI5MOU5c6Qt",
        "outputId": "4ab0ed9a-a77e-4892-cf4e-e25813921e4b"
      },
      "execution_count": null,
      "outputs": [
        {
          "output_type": "error",
          "ename": "ValueError",
          "evalue": "ignored",
          "traceback": [
            "\u001b[0;31m---------------------------------------------------------------------------\u001b[0m",
            "\u001b[0;31mValueError\u001b[0m                                Traceback (most recent call last)",
            "\u001b[0;32m<ipython-input-26-1da7d8437df3>\u001b[0m in \u001b[0;36m<cell line: 18>\u001b[0;34m()\u001b[0m\n\u001b[1;32m     16\u001b[0m \u001b[0;34m\u001b[0m\u001b[0m\n\u001b[1;32m     17\u001b[0m \u001b[0;31m# Create interactive plots using Plotly for NDX\u001b[0m\u001b[0;34m\u001b[0m\u001b[0;34m\u001b[0m\u001b[0m\n\u001b[0;32m---> 18\u001b[0;31m \u001b[0mfig_ndx_positive\u001b[0m \u001b[0;34m=\u001b[0m \u001b[0mpx\u001b[0m\u001b[0;34m.\u001b[0m\u001b[0mline\u001b[0m\u001b[0;34m(\u001b[0m\u001b[0mx\u001b[0m\u001b[0;34m=\u001b[0m\u001b[0mnp\u001b[0m\u001b[0;34m.\u001b[0m\u001b[0mlinspace\u001b[0m\u001b[0;34m(\u001b[0m\u001b[0mdf_ndx_positive\u001b[0m\u001b[0;34m.\u001b[0m\u001b[0mmin\u001b[0m\u001b[0;34m(\u001b[0m\u001b[0;34m)\u001b[0m\u001b[0;34m,\u001b[0m \u001b[0mdf_ndx_positive\u001b[0m\u001b[0;34m.\u001b[0m\u001b[0mmax\u001b[0m\u001b[0;34m(\u001b[0m\u001b[0;34m)\u001b[0m\u001b[0;34m,\u001b[0m \u001b[0;36m1000\u001b[0m\u001b[0;34m)\u001b[0m\u001b[0;34m,\u001b[0m \u001b[0my\u001b[0m\u001b[0;34m=\u001b[0m\u001b[0mpdfs_positive_ndx\u001b[0m\u001b[0;34m,\u001b[0m \u001b[0mtitle\u001b[0m\u001b[0;34m=\u001b[0m\u001b[0;34m\"NDX Positive Days Normal Distribution\"\u001b[0m\u001b[0;34m)\u001b[0m\u001b[0;34m\u001b[0m\u001b[0;34m\u001b[0m\u001b[0m\n\u001b[0m\u001b[1;32m     19\u001b[0m \u001b[0mfig_ndx_positive\u001b[0m\u001b[0;34m.\u001b[0m\u001b[0mupdate_xaxes\u001b[0m\u001b[0;34m(\u001b[0m\u001b[0mtitle\u001b[0m\u001b[0;34m=\u001b[0m\u001b[0;34m\"x\"\u001b[0m\u001b[0;34m)\u001b[0m\u001b[0;34m\u001b[0m\u001b[0;34m\u001b[0m\u001b[0m\n\u001b[1;32m     20\u001b[0m \u001b[0mfig_ndx_positive\u001b[0m\u001b[0;34m.\u001b[0m\u001b[0mupdate_yaxes\u001b[0m\u001b[0;34m(\u001b[0m\u001b[0mtitle\u001b[0m\u001b[0;34m=\u001b[0m\u001b[0;34m\"PDF\"\u001b[0m\u001b[0;34m)\u001b[0m\u001b[0;34m\u001b[0m\u001b[0;34m\u001b[0m\u001b[0m\n",
            "\u001b[0;32m/usr/local/lib/python3.10/dist-packages/plotly/express/_chart_types.py\u001b[0m in \u001b[0;36mline\u001b[0;34m(data_frame, x, y, line_group, color, line_dash, symbol, hover_name, hover_data, custom_data, text, facet_row, facet_col, facet_col_wrap, facet_row_spacing, facet_col_spacing, error_x, error_x_minus, error_y, error_y_minus, animation_frame, animation_group, category_orders, labels, orientation, color_discrete_sequence, color_discrete_map, line_dash_sequence, line_dash_map, symbol_sequence, symbol_map, markers, log_x, log_y, range_x, range_y, line_shape, render_mode, title, template, width, height)\u001b[0m\n\u001b[1;32m    262\u001b[0m     \u001b[0ma\u001b[0m \u001b[0mpolyline\u001b[0m \u001b[0mmark\u001b[0m \u001b[0;32min\u001b[0m \u001b[0;36m2\u001b[0m\u001b[0mD\u001b[0m \u001b[0mspace\u001b[0m\u001b[0;34m.\u001b[0m\u001b[0;34m\u001b[0m\u001b[0;34m\u001b[0m\u001b[0m\n\u001b[1;32m    263\u001b[0m     \"\"\"\n\u001b[0;32m--> 264\u001b[0;31m     \u001b[0;32mreturn\u001b[0m \u001b[0mmake_figure\u001b[0m\u001b[0;34m(\u001b[0m\u001b[0margs\u001b[0m\u001b[0;34m=\u001b[0m\u001b[0mlocals\u001b[0m\u001b[0;34m(\u001b[0m\u001b[0;34m)\u001b[0m\u001b[0;34m,\u001b[0m \u001b[0mconstructor\u001b[0m\u001b[0;34m=\u001b[0m\u001b[0mgo\u001b[0m\u001b[0;34m.\u001b[0m\u001b[0mScatter\u001b[0m\u001b[0;34m)\u001b[0m\u001b[0;34m\u001b[0m\u001b[0;34m\u001b[0m\u001b[0m\n\u001b[0m\u001b[1;32m    265\u001b[0m \u001b[0;34m\u001b[0m\u001b[0m\n\u001b[1;32m    266\u001b[0m \u001b[0;34m\u001b[0m\u001b[0m\n",
            "\u001b[0;32m/usr/local/lib/python3.10/dist-packages/plotly/express/_core.py\u001b[0m in \u001b[0;36mmake_figure\u001b[0;34m(args, constructor, trace_patch, layout_patch)\u001b[0m\n\u001b[1;32m   2001\u001b[0m     \u001b[0mapply_default_cascade\u001b[0m\u001b[0;34m(\u001b[0m\u001b[0margs\u001b[0m\u001b[0;34m)\u001b[0m\u001b[0;34m\u001b[0m\u001b[0;34m\u001b[0m\u001b[0m\n\u001b[1;32m   2002\u001b[0m \u001b[0;34m\u001b[0m\u001b[0m\n\u001b[0;32m-> 2003\u001b[0;31m     \u001b[0margs\u001b[0m \u001b[0;34m=\u001b[0m \u001b[0mbuild_dataframe\u001b[0m\u001b[0;34m(\u001b[0m\u001b[0margs\u001b[0m\u001b[0;34m,\u001b[0m \u001b[0mconstructor\u001b[0m\u001b[0;34m)\u001b[0m\u001b[0;34m\u001b[0m\u001b[0;34m\u001b[0m\u001b[0m\n\u001b[0m\u001b[1;32m   2004\u001b[0m     \u001b[0;32mif\u001b[0m \u001b[0mconstructor\u001b[0m \u001b[0;32min\u001b[0m \u001b[0;34m[\u001b[0m\u001b[0mgo\u001b[0m\u001b[0;34m.\u001b[0m\u001b[0mTreemap\u001b[0m\u001b[0;34m,\u001b[0m \u001b[0mgo\u001b[0m\u001b[0;34m.\u001b[0m\u001b[0mSunburst\u001b[0m\u001b[0;34m,\u001b[0m \u001b[0mgo\u001b[0m\u001b[0;34m.\u001b[0m\u001b[0mIcicle\u001b[0m\u001b[0;34m]\u001b[0m \u001b[0;32mand\u001b[0m \u001b[0margs\u001b[0m\u001b[0;34m[\u001b[0m\u001b[0;34m\"path\"\u001b[0m\u001b[0;34m]\u001b[0m \u001b[0;32mis\u001b[0m \u001b[0;32mnot\u001b[0m \u001b[0;32mNone\u001b[0m\u001b[0;34m:\u001b[0m\u001b[0;34m\u001b[0m\u001b[0;34m\u001b[0m\u001b[0m\n\u001b[1;32m   2005\u001b[0m         \u001b[0margs\u001b[0m \u001b[0;34m=\u001b[0m \u001b[0mprocess_dataframe_hierarchy\u001b[0m\u001b[0;34m(\u001b[0m\u001b[0margs\u001b[0m\u001b[0;34m)\u001b[0m\u001b[0;34m\u001b[0m\u001b[0;34m\u001b[0m\u001b[0m\n",
            "\u001b[0;32m/usr/local/lib/python3.10/dist-packages/plotly/express/_core.py\u001b[0m in \u001b[0;36mbuild_dataframe\u001b[0;34m(args, constructor)\u001b[0m\n\u001b[1;32m   1329\u001b[0m     \u001b[0;32mif\u001b[0m \u001b[0mconstructor\u001b[0m \u001b[0;32min\u001b[0m \u001b[0mcartesians\u001b[0m\u001b[0;34m:\u001b[0m\u001b[0;34m\u001b[0m\u001b[0;34m\u001b[0m\u001b[0m\n\u001b[1;32m   1330\u001b[0m         \u001b[0;32mif\u001b[0m \u001b[0mwide_x\u001b[0m \u001b[0;32mand\u001b[0m \u001b[0mwide_y\u001b[0m\u001b[0;34m:\u001b[0m\u001b[0;34m\u001b[0m\u001b[0;34m\u001b[0m\u001b[0m\n\u001b[0;32m-> 1331\u001b[0;31m             raise ValueError(\n\u001b[0m\u001b[1;32m   1332\u001b[0m                 \u001b[0;34m\"Cannot accept list of column references or list of columns for both `x` and `y`.\"\u001b[0m\u001b[0;34m\u001b[0m\u001b[0;34m\u001b[0m\u001b[0m\n\u001b[1;32m   1333\u001b[0m             )\n",
            "\u001b[0;31mValueError\u001b[0m: Cannot accept list of column references or list of columns for both `x` and `y`."
          ]
        }
      ]
    },
    {
      "cell_type": "code",
      "source": [],
      "metadata": {
        "id": "ayDv2YHSf872"
      },
      "execution_count": null,
      "outputs": []
    }
  ]
}