{
  "nbformat": 4,
  "nbformat_minor": 0,
  "metadata": {
    "colab": {
      "provenance": [],
      "authorship_tag": "ABX9TyMfGUiv24vD2xrIIjIgfKum",
      "include_colab_link": true
    },
    "kernelspec": {
      "name": "python3",
      "display_name": "Python 3"
    },
    "language_info": {
      "name": "python"
    }
  },
  "cells": [
    {
      "cell_type": "markdown",
      "metadata": {
        "id": "view-in-github",
        "colab_type": "text"
      },
      "source": [
        "<a href=\"https://colab.research.google.com/github/vishwasjoshi2019/Stock_Market_Analysis/blob/main/VIX_NDX_SPX_Correlation.ipynb\" target=\"_parent\"><img src=\"https://colab.research.google.com/assets/colab-badge.svg\" alt=\"Open In Colab\"/></a>"
      ]
    },
    {
      "cell_type": "markdown",
      "source": [
        "[VIX relation](https://www.investopedia.com/terms/v/vix.asp)\n",
        "\n",
        "\n",
        "Correlation Between NDX and VIX"
      ],
      "metadata": {
        "id": "fRsFWUs52i0H"
      }
    },
    {
      "cell_type": "code",
      "execution_count": null,
      "metadata": {
        "colab": {
          "base_uri": "https://localhost:8080/"
        },
        "id": "ltYvVHdow3He",
        "outputId": "e470064e-caa7-4d76-a622-4d505e3b436c"
      },
      "outputs": [
        {
          "output_type": "stream",
          "name": "stdout",
          "text": [
            "Correlation Matrix:\n",
            "          NDX       SPX       VIX\n",
            "NDX  1.000000  0.918424 -0.615631\n",
            "SPX  0.918424  1.000000 -0.739655\n",
            "VIX -0.615631 -0.739655  1.000000\n",
            "Correlation between NDX and SPX: 0.9184\n",
            "Correlation between NDX and VIX: -0.6156\n",
            "Correlation between SPX and VIX: -0.7397\n"
          ]
        }
      ],
      "source": [
        "import yfinance as yf\n",
        "import pandas as pd\n",
        "\n",
        "# Download historical data for NDX, SPX, and VIX for the desired time period\n",
        "start_date = \"2023-01-01\"\n",
        "end_date = \"2023-12-31\"\n",
        "\n",
        "ndx_data = yf.download('^NDX', start=start_date, end=end_date, progress=False)\n",
        "spx_data = yf.download('^GSPC', start=start_date, end=end_date, progress=False)\n",
        "vix_data = yf.download('^VIX', start=start_date, end=end_date, progress=False)\n",
        "\n",
        "# Align timestamps to ensure data points match\n",
        "merged_data = pd.concat([ndx_data['Adj Close'], spx_data['Adj Close'], vix_data['Adj Close']], axis=1)\n",
        "merged_data.columns = ['NDX', 'SPX', 'VIX']\n",
        "\n",
        "# Calculate daily returns for NDX, SPX, and VIX\n",
        "daily_returns = merged_data.pct_change().dropna()\n",
        "\n",
        "# Calculate the correlation matrix\n",
        "correlation_matrix = daily_returns.corr()\n",
        "\n",
        "# Print the correlation matrix\n",
        "print(\"Correlation Matrix:\")\n",
        "print(correlation_matrix)\n",
        "\n",
        "# Get the correlation between NDX and SPX\n",
        "ndx_spx_correlation = correlation_matrix.loc['NDX', 'SPX']\n",
        "print(f\"Correlation between NDX and SPX: {ndx_spx_correlation:.4f}\")\n",
        "\n",
        "# Get the correlation between NDX and VIX\n",
        "ndx_vix_correlation = correlation_matrix.loc['NDX', 'VIX']\n",
        "print(f\"Correlation between NDX and VIX: {ndx_vix_correlation:.4f}\")\n",
        "\n",
        "# Get the correlation between SPX and VIX\n",
        "spx_vix_correlation = correlation_matrix.loc['SPX', 'VIX']\n",
        "print(f\"Correlation between SPX and VIX: {spx_vix_correlation:.4f}\")\n"
      ]
    },
    {
      "cell_type": "code",
      "source": [],
      "metadata": {
        "id": "_G7Am4AXxE3h",
        "colab": {
          "base_uri": "https://localhost:8080/"
        },
        "outputId": "e32cc07e-2589-414f-c79d-db09fdbe440d"
      },
      "execution_count": null,
      "outputs": [
        {
          "output_type": "stream",
          "name": "stdout",
          "text": [
            "Correlation Matrix:\n",
            "          NDX       SPX       VIX\n",
            "NDX  1.000000  0.918432 -0.615645\n",
            "SPX  0.918432  1.000000 -0.739861\n",
            "VIX -0.615645 -0.739861  1.000000\n",
            "Correlation between NDX and SPX: 0.9184\n",
            "Correlation between NDX and VIX: -0.6156\n",
            "Correlation between SPX and VIX: -0.7399\n"
          ]
        }
      ]
    },
    {
      "cell_type": "code",
      "source": [
        "import yfinance as yf\n",
        "import pandas as pd\n",
        "\n",
        "# Download historical data for NDX, SPX, and VIX for the desired time period\n",
        "start_date = \"2023-01-01\"\n",
        "end_date = \"2023-12-31\"\n",
        "\n",
        "ndx_data = yf.download('^NDX', start=start_date, end=end_date, progress=False)\n",
        "spx_data = yf.download('^GSPC', start=start_date, end=end_date, progress=False)\n",
        "vix_data = yf.download('^VIX', start=start_date, end=end_date, progress=False)\n",
        "\n",
        "# Align timestamps to ensure data points match\n",
        "merged_data = pd.concat([ndx_data['Adj Close'], spx_data['Adj Close'], vix_data['Adj Close']], axis=1)\n",
        "merged_data.columns = ['NDX', 'SPX', 'VIX']\n",
        "\n",
        "# Calculate daily returns for NDX, SPX, and VIX\n",
        "daily_returns = merged_data.pct_change().dropna()\n",
        "\n",
        "# Calculate the correlation matrix\n",
        "correlation_matrix = daily_returns.corr()\n",
        "\n",
        "# Print the correlation matrix\n",
        "print(\"Correlation Matrix:\")\n",
        "print(correlation_matrix)\n",
        "\n",
        "# Get the correlation between NDX and SPX\n",
        "ndx_spx_correlation = correlation_matrix.loc['NDX', 'SPX']\n",
        "print(f\"Correlation between NDX and SPX: {ndx_spx_correlation:.4f}\")\n",
        "\n",
        "# Get the correlation between NDX and VIX\n",
        "ndx_vix_correlation = correlation_matrix.loc['NDX', 'VIX']\n",
        "print(f\"Correlation between NDX and VIX: {ndx_vix_correlation:.4f}\")\n",
        "\n",
        "# Get the correlation between SPX and VIX\n",
        "spx_vix_correlation = correlation_matrix.loc['SPX', 'VIX']\n",
        "print(f\"Correlation between SPX and VIX: {spx_vix_correlation:.4f}\")\n"
      ],
      "metadata": {
        "colab": {
          "base_uri": "https://localhost:8080/"
        },
        "id": "RH5ifSQvzuz6",
        "outputId": "fde3826d-ad53-4538-e33d-62c15612206b"
      },
      "execution_count": null,
      "outputs": [
        {
          "output_type": "stream",
          "name": "stdout",
          "text": [
            "Correlation Matrix:\n",
            "          NDX       SPX       VIX\n",
            "NDX  1.000000  0.843955 -0.052655\n",
            "SPX  0.843955  1.000000 -0.110397\n",
            "VIX -0.052655 -0.110397  1.000000\n",
            "Correlation between NDX and SPX: 0.8440\n",
            "Correlation between NDX and VIX: -0.0527\n",
            "Correlation between SPX and VIX: -0.1104\n"
          ]
        }
      ]
    },
    {
      "cell_type": "code",
      "source": [],
      "metadata": {
        "id": "FvoF7RIlc8F9"
      },
      "execution_count": null,
      "outputs": []
    }
  ]
}